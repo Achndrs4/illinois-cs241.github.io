{
 "cells": [
  {
   "cell_type": "markdown",
   "metadata": {
    "slideshow": {
     "slide_type": "slide"
    }
   },
   "source": [
    "# Teaching Threads"
   ]
  },
  {
   "cell_type": "markdown",
   "metadata": {
    "slideshow": {
     "slide_type": "fragment"
    }
   },
   "source": [
    "### Not Terrible Yet..."
   ]
  },
  {
   "cell_type": "markdown",
   "metadata": {
    "slideshow": {
     "slide_type": "slide"
    }
   },
   "source": [
    "# So What Is Map?"
   ]
  },
  {
   "cell_type": "markdown",
   "metadata": {
    "slideshow": {
     "slide_type": "subslide"
    }
   },
   "source": [
    "<img src=\"map_funny.png\">"
   ]
  },
  {
   "cell_type": "markdown",
   "metadata": {
    "slideshow": {
     "slide_type": "subslide"
    }
   },
   "source": [
    "## Just one more example"
   ]
  },
  {
   "cell_type": "markdown",
   "metadata": {
    "slideshow": {
     "slide_type": "fragment"
    }
   },
   "source": [
    "<img src=\"array-fruit.png\">"
   ]
  },
  {
   "cell_type": "markdown",
   "metadata": {
    "slideshow": {
     "slide_type": "subslide"
    }
   },
   "source": [
    "<img src=\"array-map.png\">"
   ]
  },
  {
   "cell_type": "markdown",
   "metadata": {
    "slideshow": {
     "slide_type": "slide"
    }
   },
   "source": [
    "## So what does this actually mean code?"
   ]
  },
  {
   "cell_type": "markdown",
   "metadata": {
    "slideshow": {
     "slide_type": "subslide"
    }
   },
   "source": [
    "Something like\n",
    "<img src=\"Array.map.png\">"
   ]
  },
  {
   "cell_type": "code",
   "execution_count": 5,
   "metadata": {
    "collapsed": false,
    "slideshow": {
     "slide_type": "subslide"
    }
   },
   "outputs": [
    {
     "name": "stdout",
     "output_type": "stream",
     "text": [
      "\u001b[36mchar\u001b[39;49;00m* \u001b[32msequential_map\u001b[39;49;00m(\u001b[36mchar\u001b[39;49;00m (*function)(\u001b[36mchar\u001b[39;49;00m), \u001b[36mchar\u001b[39;49;00m* string){\r\n",
      "\t\u001b[36mchar\u001b[39;49;00m* mapped_string = malloc(strlen(string)+\u001b[34m1\u001b[39;49;00m);\r\n",
      "\t\u001b[36mint\u001b[39;49;00m offset;\r\n",
      "\t\u001b[34mfor\u001b[39;49;00m(offset = \u001b[34m0\u001b[39;49;00m; string[offset]; ++offset){\r\n",
      "\t\tmapped_string[offset] = function(string[offset]);\r\n",
      "\t}\r\n",
      "\t\u001b[34mreturn\u001b[39;49;00m mapped_string;\r\n",
      "}\r\n",
      "\r\n",
      "\u001b[36mint\u001b[39;49;00m \u001b[32mmain\u001b[39;49;00m(){\r\n",
      "\t\u001b[36mchar\u001b[39;49;00m string[] = \u001b[33m\"\u001b[39;49;00m\u001b[33mi love teaching threads\u001b[39;49;00m\u001b[33m\"\u001b[39;49;00m;\r\n",
      "\r\n",
      "\t\u001b[36mchar\u001b[39;49;00m* upper = sequential_map(toupper, string);\r\n",
      "\t\u001b[36mchar\u001b[39;49;00m* lower = sequential_map(tolower, string);\r\n",
      "\t\u001b[36mchar\u001b[39;49;00m* unicode = sequential_map(tounicode, string);\r\n",
      "\t\u001b[37m// Whatever you want\u001b[39;49;00m\r\n",
      "\t\r\n",
      "\t\u001b[34mreturn\u001b[39;49;00m \u001b[34m0\u001b[39;49;00m;\r\n",
      "}\r\n"
     ]
    }
   ],
   "source": [
    "pygmentize parallel.c"
   ]
  },
  {
   "cell_type": "markdown",
   "metadata": {
    "slideshow": {
     "slide_type": "fragment"
    }
   },
   "source": [
    "### Okay, enough about Map"
   ]
  },
  {
   "cell_type": "markdown",
   "metadata": {
    "slideshow": {
     "slide_type": "slide"
    }
   },
   "source": [
    "## Pthreads? What are thooooose?\n",
    "Pthreads are short for POSIX-threads. They are a standardized way of doing multithreading on POSIX-compliant systems. A thread is short for thread of execution, meaning that the thread and execute instructions independently of other threads. You covered a lot in lecture here is a bit more in depth"
   ]
  },
  {
   "cell_type": "code",
   "execution_count": 6,
   "metadata": {
    "collapsed": false,
    "slideshow": {
     "slide_type": "subslide"
    }
   },
   "outputs": [
    {
     "name": "stdout",
     "output_type": "stream",
     "text": [
      "PTHREAD_CREATE(3)          Linux Programmer's Manual         PTHREAD_CREATE(3)\r\n",
      "\r\n",
      "NAME\r\n",
      "       pthread_create - create a new thread\r\n",
      "\r\n",
      "SYNOPSIS\r\n",
      "       #include <pthread.h>\r\n",
      "\r\n",
      "       int pthread_create(pthread_t *thread, const pthread_attr_t *attr,\r\n",
      "                          void *(*start_routine) (void *), void *arg);\r\n",
      "\r\n",
      "       Compile and link with -pthread.\r\n",
      "\r\n",
      "DESCRIPTION\r\n",
      "       The  pthread_create()  function  starts  a  new  thread  in the calling\r\n",
      "       process.  The new thread starts execution by invoking  start_routine();\r\n",
      "       arg is passed as the sole argument of start_routine().\r\n",
      "\r\n",
      "       The new thread terminates in one of the following ways:\r\n",
      "\r\n"
     ]
    }
   ],
   "source": [
    "man pthread_create | head -n 20"
   ]
  },
  {
   "cell_type": "markdown",
   "metadata": {
    "slideshow": {
     "slide_type": "fragment"
    }
   },
   "source": [
    "The arguments thread, start routine, and arg are pretty self explanatory. attr is an argument that let's you determine things like if the pthread can be detatched or other more complex features."
   ]
  },
  {
   "cell_type": "code",
   "execution_count": 7,
   "metadata": {
    "collapsed": false,
    "slideshow": {
     "slide_type": "subslide"
    }
   },
   "outputs": [
    {
     "name": "stdout",
     "output_type": "stream",
     "text": [
      "PTHREAD_JOIN(3)            Linux Programmer's Manual           PTHREAD_JOIN(3)\r\n",
      "\r\n",
      "NAME\r\n",
      "       pthread_join - join with a terminated thread\r\n",
      "\r\n",
      "SYNOPSIS\r\n",
      "       #include <pthread.h>\r\n",
      "\r\n",
      "       int pthread_join(pthread_t thread, void **retval);\r\n",
      "\r\n",
      "       Compile and link with -pthread.\r\n",
      "\r\n",
      "DESCRIPTION\r\n",
      "       The pthread_join() function waits for the thread specified by thread to\r\n",
      "       terminate.  If that thread has already terminated, then  pthread_join()\r\n",
      "       returns immediately.  The thread specified by thread must be joinable.\r\n",
      "\r\n",
      "       If  retval  is  not NULL, then pthread_join() copies the exit status of\r\n",
      "       the target thread (i.e., the value that the target thread  supplied  to\r\n",
      "       pthread_exit(3))  into the location pointed to by *retval.  If the tar‐\r\n"
     ]
    }
   ],
   "source": [
    "man pthread_join | head -n 20"
   ]
  },
  {
   "cell_type": "markdown",
   "metadata": {
    "slideshow": {
     "slide_type": "fragment"
    }
   },
   "source": [
    "Just like waitpid, you want to join all your terminated threads. There is no analog of waitpid(-1, ...) because if you need that 'you probably need to rethink your application design.' - man page."
   ]
  },
  {
   "cell_type": "code",
   "execution_count": 2,
   "metadata": {
    "collapsed": false,
    "slideshow": {
     "slide_type": "subslide"
    }
   },
   "outputs": [
    {
     "name": "stdout",
     "output_type": "stream",
     "text": [
      "\u001b[36m#\u001b[39;49;00m\u001b[36minclude\u001b[39;49;00m \u001b[37m<pthread>\u001b[39;49;00m\u001b[36m\u001b[39;49;00m\r\n",
      "\r\n",
      "\u001b[36mvoid\u001b[39;49;00m* \u001b[32mdo_massive_work\u001b[39;49;00m(\u001b[36mvoid\u001b[39;49;00m* payload){\r\n",
      "\r\n",
      "\t\u001b[37m/* Doing massive work */\u001b[39;49;00m\r\n",
      "\t\u001b[34mreturn\u001b[39;49;00m \u001b[36mNULL\u001b[39;49;00m;\r\n",
      "}\r\n",
      "\r\n",
      "\u001b[36mint\u001b[39;49;00m \u001b[32mmain\u001b[39;49;00m(){\r\n",
      "\r\n",
      "\tpthread_t threads[\u001b[34m10\u001b[39;49;00m];\r\n",
      "\t\u001b[34mfor\u001b[39;49;00m(\u001b[36mint\u001b[39;49;00m i = \u001b[34m0\u001b[39;49;00m; i < \u001b[34m10\u001b[39;49;00m; ++i){\r\n",
      "\t\tpthread_create(threads+i, \u001b[36mNULL\u001b[39;49;00m, do_massive_work, \u001b[36mNULL\u001b[39;49;00m);\r\n",
      "\t}\r\n",
      "\r\n",
      "\t\u001b[34mfor\u001b[39;49;00m(\u001b[36mint\u001b[39;49;00m i = \u001b[34m0\u001b[39;49;00m; i < \u001b[34m10\u001b[39;49;00m; ++i){\r\n",
      "\t\tpthread_join(threads[i], \u001b[36mNULL\u001b[39;49;00m);\r\n",
      "\t}\r\n",
      "\r\n",
      "\t\u001b[34mreturn\u001b[39;49;00m \u001b[34m0\u001b[39;49;00m;\r\n",
      "}\r\n"
     ]
    }
   ],
   "source": [
    "pygmentize simple.c"
   ]
  },
  {
   "cell_type": "markdown",
   "metadata": {
    "slideshow": {
     "slide_type": "subslide"
    }
   },
   "source": [
    "### What happens in pthread_create\n",
    "<img src=\"thread2.png\">\n",
    "### You can guess what happens in pthread_destroy\n",
    "This may be a bit advanced, but the general gist is that they let you leverage parallelism"
   ]
  },
  {
   "cell_type": "markdown",
   "metadata": {
    "slideshow": {
     "slide_type": "slide"
    }
   },
   "source": [
    "## Putting it all together\n",
    "We want you to start a thread for each of the elements, do the computation and alter the array. Dividing up the work it should look something like the following"
   ]
  },
  {
   "cell_type": "markdown",
   "metadata": {
    "slideshow": {
     "slide_type": "fragment"
    }
   },
   "source": [
    "<img src=\"array.gif\">"
   ]
  },
  {
   "cell_type": "markdown",
   "metadata": {
    "slideshow": {
     "slide_type": "subslide"
    }
   },
   "source": [
    "## Just watch out for the edge conditions (What if we supply more threads than array elements? etc)"
   ]
  },
  {
   "cell_type": "markdown",
   "metadata": {
    "slideshow": {
     "slide_type": "slide"
    }
   },
   "source": [
    "## Wait a minute don't we need mutexes and stuff?"
   ]
  },
  {
   "cell_type": "markdown",
   "metadata": {
    "slideshow": {
     "slide_type": "fragment"
    }
   },
   "source": [
    "You have been going through mutexes and other synchronization primitives in lecture, but the most efficient data structure is lock-free. This means that so long as no other thread touches the <b>exact same</b>piece of memory that another thread is touching -- there is no race condition. We are then using threads to their full goal of parallelism"
   ]
  },
  {
   "cell_type": "markdown",
   "metadata": {
    "slideshow": {
     "slide_type": "slide"
    }
   },
   "source": [
    "## Thanks! If you have any questions we will be around"
   ]
  },
  {
   "cell_type": "code",
   "execution_count": null,
   "metadata": {
    "collapsed": true,
    "slideshow": {
     "slide_type": "skip"
    }
   },
   "outputs": [],
   "source": []
  }
 ],
 "metadata": {
  "celltoolbar": "Slideshow",
  "kernelspec": {
   "display_name": "Bash",
   "language": "bash",
   "name": "bash"
  },
  "language_info": {
   "codemirror_mode": "shell",
   "file_extension": ".sh",
   "mimetype": "text/x-sh",
   "name": "bash"
  }
 },
 "nbformat": 4,
 "nbformat_minor": 1
}
