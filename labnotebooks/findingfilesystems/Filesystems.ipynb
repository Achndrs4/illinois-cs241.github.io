{
 "cells": [
  {
   "cell_type": "markdown",
   "metadata": {
    "slideshow": {
     "slide_type": "slide"
    }
   },
   "source": [
    "# Finding Filesystems"
   ]
  },
  {
   "cell_type": "markdown",
   "metadata": {
    "slideshow": {
     "slide_type": "slide"
    }
   },
   "source": [
    "<img src=\"map.png\">"
   ]
  },
  {
   "cell_type": "markdown",
   "metadata": {
    "slideshow": {
     "slide_type": "slide"
    }
   },
   "source": [
    "<img src=\"ntfs.png\">"
   ]
  },
  {
   "cell_type": "markdown",
   "metadata": {
    "slideshow": {
     "slide_type": "slide"
    }
   },
   "source": [
    "<img src=\"inode_with_signatures.jpg\">"
   ]
  },
  {
   "cell_type": "code",
   "execution_count": 2,
   "metadata": {
    "collapsed": false,
    "slideshow": {
     "slide_type": "subslide"
    }
   },
   "outputs": [
    {
     "name": "stdout",
     "output_type": "stream",
     "text": [
      "\u001b[34mtypedef\u001b[39;49;00m \u001b[34mstruct\u001b[39;49;00m {\r\n",
      "\t\u001b[36muint8_t\u001b[39;49;00m \towner;\t\t\t\t\u001b[37m/* Owner ID */\u001b[39;49;00m\r\n",
      "\t\u001b[36muint8_t\u001b[39;49;00m \tgroup;\t\t\t\t\u001b[37m/* Group ID */\u001b[39;49;00m\r\n",
      "\t\u001b[36muint16_t\u001b[39;49;00m \tpermissions;\t\t\u001b[37m/* <d,f,c,p>rwxrwxrwx */\u001b[39;49;00m\r\n",
      "\t\u001b[36muint32_t\u001b[39;49;00m \thard_link_count;\t\u001b[37m/* reference count, when hit 0 */\u001b[39;49;00m\r\n",
      "\t\u001b[36mtime_t\u001b[39;49;00m \t\tlast_access;\t\t\u001b[37m/* read(2) change */\u001b[39;49;00m\r\n",
      "\t\u001b[36mtime_t\u001b[39;49;00m \t\tlast_modification;\t\u001b[37m/* any time metadata changes */\u001b[39;49;00m\r\n",
      "\t\u001b[36mtime_t\u001b[39;49;00m \t\tlast_change;\t\t\u001b[37m/* write(2) change */\u001b[39;49;00m\r\n",
      "\t\u001b[36muint64_t\u001b[39;49;00m \tsize;\t\t\t\t\u001b[37m/* size of the file in bytes */\u001b[39;49;00m\r\n",
      "\tdata_block_number direct_nodes[NUM_DIRECT_INODES]; \u001b[37m/* data_blocks */\u001b[39;49;00m\r\n",
      "\tinode_number single_indirect;\t\t\u001b[37m/* points to a singly indirect block */\u001b[39;49;00m\r\n",
      "} inode;\r\n"
     ]
    }
   ],
   "source": [
    "pygmentize inode.c"
   ]
  },
  {
   "cell_type": "markdown",
   "metadata": {
    "slideshow": {
     "slide_type": "slide"
    }
   },
   "source": [
    "<img src=\"IndirectBlocks1.png\">"
   ]
  },
  {
   "cell_type": "markdown",
   "metadata": {
    "collapsed": true,
    "slideshow": {
     "slide_type": "skip"
    }
   },
   "source": [
    "## Lot's of helper functions/macros in the docs"
   ]
  },
  {
   "cell_type": "markdown",
   "metadata": {
    "slideshow": {
     "slide_type": "slide"
    }
   },
   "source": [
    "### get_inode, is_file, UNASSIGNED_NODE"
   ]
  },
  {
   "cell_type": "code",
   "execution_count": null,
   "metadata": {
    "collapsed": true
   },
   "outputs": [],
   "source": []
  }
 ],
 "metadata": {
  "celltoolbar": "Slideshow",
  "kernelspec": {
   "display_name": "Bash",
   "language": "bash",
   "name": "bash"
  },
  "language_info": {
   "codemirror_mode": "shell",
   "file_extension": ".sh",
   "mimetype": "text/x-sh",
   "name": "bash"
  }
 },
 "nbformat": 4,
 "nbformat_minor": 1
}
