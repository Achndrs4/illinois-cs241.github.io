{
 "cells": [
  {
   "cell_type": "markdown",
   "metadata": {
    "slideshow": {
     "slide_type": "slide"
    }
   },
   "source": [
    "<h1 style=\"font-size:1000 !important;\">Mini Valgrind</h1>"
   ]
  },
  {
   "cell_type": "markdown",
   "metadata": {
    "slideshow": {
     "slide_type": "slide"
    }
   },
   "source": [
    "## Memory in C"
   ]
  },
  {
   "cell_type": "markdown",
   "metadata": {
    "slideshow": {
     "slide_type": "fragment"
    }
   },
   "source": [
    "### So we are going to do a little review of memory and offsets in C. There are a fair amount of you which haven't taken 233 (Which is okay!) but we need to get you up to speed on the prerequisites. So here is a struct."
   ]
  },
  {
   "cell_type": "markdown",
   "metadata": {
    "slideshow": {
     "slide_type": "slide"
    }
   },
   "source": [
    "<img src=\"PointerStructExample.png\">\n",
    "### How we are going to lay this out in memory is with offsets. We will malloc a certain amount of space and each of the variables will take up space right next to each other and take up as much space as the variable is defined to in the standard."
   ]
  },
  {
   "cell_type": "markdown",
   "metadata": {
    "slideshow": {
     "slide_type": "slide"
    }
   },
   "source": [
    "## So how does this look with some actually simple code?"
   ]
  },
  {
   "cell_type": "code",
   "execution_count": 1,
   "metadata": {
    "collapsed": false,
    "slideshow": {
     "slide_type": "subslide"
    }
   },
   "outputs": [
    {
     "name": "stdout",
     "output_type": "stream",
     "text": [
      "\u001b[36m#\u001b[39;49;00m\u001b[36minclude\u001b[39;49;00m \u001b[37m<stdio.h>\u001b[39;49;00m\u001b[36m\u001b[39;49;00m\r\n",
      "\r\n",
      "\u001b[34mtypedef\u001b[39;49;00m \u001b[34mstruct\u001b[39;49;00m\r\n",
      "{\r\n",
      "\t\u001b[36mint\u001b[39;49;00m n1;\r\n",
      "\t\u001b[36mfloat\u001b[39;49;00m n2;\r\n",
      "\t\u001b[36mchar\u001b[39;49;00m st[\u001b[34m10\u001b[39;49;00m];\r\n",
      "} contact;\r\n",
      "\r\n",
      "\u001b[36mint\u001b[39;49;00m \u001b[32mmain\u001b[39;49;00m(){\r\n",
      "\tcontact bhuvan;\r\n",
      "\tprintf(\u001b[33m\"\u001b[39;49;00m\u001b[33mContact address:\u001b[39;49;00m\u001b[33m\\t\u001b[39;49;00m\u001b[33m%p\u001b[39;49;00m\u001b[33m\\n\u001b[39;49;00m\u001b[33m\"\u001b[39;49;00m, &bhuvan);\r\n",
      "\tprintf(\u001b[33m\"\u001b[39;49;00m\u001b[33mContact n1 location:\u001b[39;49;00m\u001b[33m\\t\u001b[39;49;00m\u001b[33m%p\u001b[39;49;00m\u001b[33m\\n\u001b[39;49;00m\u001b[33m\"\u001b[39;49;00m, &bhuvan.n1);\r\n",
      "\tprintf(\u001b[33m\"\u001b[39;49;00m\u001b[33mContact n2 location:\u001b[39;49;00m\u001b[33m\\t\u001b[39;49;00m\u001b[33m%p\u001b[39;49;00m\u001b[33m\\n\u001b[39;49;00m\u001b[33m\"\u001b[39;49;00m, &bhuvan.n2);\r\n",
      "\tprintf(\u001b[33m\"\u001b[39;49;00m\u001b[33mContact nst location:\u001b[39;49;00m\u001b[33m\\t\u001b[39;49;00m\u001b[33m%p\u001b[39;49;00m\u001b[33m\\n\u001b[39;49;00m\u001b[33m\"\u001b[39;49;00m, &bhuvan.st);\r\n",
      "\r\n",
      "\t\u001b[34mreturn\u001b[39;49;00m \u001b[34m0\u001b[39;49;00m;\r\n",
      "\r\n",
      "}\r\n"
     ]
    }
   ],
   "source": [
    "pygmentize -g main.c"
   ]
  },
  {
   "cell_type": "code",
   "execution_count": 2,
   "metadata": {
    "collapsed": false,
    "slideshow": {
     "slide_type": "subslide"
    }
   },
   "outputs": [
    {
     "name": "stdout",
     "output_type": "stream",
     "text": [
      "Contact address:\t0x7fff3821e7f0\r\n",
      "Contact n1 location:\t0x7fff3821e7f0\r\n",
      "Contact n2 location:\t0x7fff3821e7f4\r\n",
      "Contact nst location:\t0x7fff3821e7f8\r\n"
     ]
    }
   ],
   "source": [
    "gcc main.c -o stack\n",
    "./stack"
   ]
  },
  {
   "cell_type": "markdown",
   "metadata": {
    "slideshow": {
     "slide_type": "slide"
    }
   },
   "source": [
    "## So what does this mean?\n",
    "GCC or Clang or whatever compiler you use calculates offsets form the base address of your contact (in this case bhuvan). It knows that the first element is at offset 0 and the second element is at offset +4 and the third element is at offset +8 from your starting address."
   ]
  },
  {
   "cell_type": "markdown",
   "metadata": {
    "slideshow": {
     "slide_type": "slide"
    }
   },
   "source": [
    "## Cool So What does this have to do with Malloc?\n",
    "Well malloc does the same thing essentially, except this time it is through the magic of the arrow notation."
   ]
  },
  {
   "cell_type": "code",
   "execution_count": 3,
   "metadata": {
    "collapsed": false,
    "slideshow": {
     "slide_type": "slide"
    }
   },
   "outputs": [
    {
     "name": "stdout",
     "output_type": "stream",
     "text": [
      "\u001b[36m#\u001b[39;49;00m\u001b[36minclude\u001b[39;49;00m \u001b[37m<stdio.h>\u001b[39;49;00m\u001b[36m\u001b[39;49;00m\r\n",
      "\u001b[36m#\u001b[39;49;00m\u001b[36minclude\u001b[39;49;00m \u001b[37m<stdlib.h>\u001b[39;49;00m\u001b[36m\u001b[39;49;00m\r\n",
      "\u001b[34mtypedef\u001b[39;49;00m \u001b[34mstruct\u001b[39;49;00m\r\n",
      "{\r\n",
      "\t\u001b[36mint\u001b[39;49;00m n1;\r\n",
      "\t\u001b[36mfloat\u001b[39;49;00m n2;\r\n",
      "\t\u001b[36mchar\u001b[39;49;00m st[\u001b[34m10\u001b[39;49;00m];\r\n",
      "} contact;\r\n",
      "\r\n",
      "\u001b[36mint\u001b[39;49;00m \u001b[32mmain\u001b[39;49;00m(){\r\n",
      "\tcontact* bhuvan = malloc(\u001b[34msizeof\u001b[39;49;00m(*bhuvan));\r\n",
      "\tprintf(\u001b[33m\"\u001b[39;49;00m\u001b[33mContact address:\u001b[39;49;00m\u001b[33m\\t\u001b[39;49;00m\u001b[33m%p\u001b[39;49;00m\u001b[33m\\n\u001b[39;49;00m\u001b[33m\"\u001b[39;49;00m, bhuvan);\r\n",
      "\tprintf(\u001b[33m\"\u001b[39;49;00m\u001b[33mContact n1 location:\u001b[39;49;00m\u001b[33m\\t\u001b[39;49;00m\u001b[33m%p\u001b[39;49;00m\u001b[33m\\n\u001b[39;49;00m\u001b[33m\"\u001b[39;49;00m, &bhuvan->n1);\r\n",
      "\tprintf(\u001b[33m\"\u001b[39;49;00m\u001b[33mContact n2 location:\u001b[39;49;00m\u001b[33m\\t\u001b[39;49;00m\u001b[33m%p\u001b[39;49;00m\u001b[33m\\n\u001b[39;49;00m\u001b[33m\"\u001b[39;49;00m, &bhuvan->n2);\r\n",
      "\tprintf(\u001b[33m\"\u001b[39;49;00m\u001b[33mContact nst location:\u001b[39;49;00m\u001b[33m\\t\u001b[39;49;00m\u001b[33m%p\u001b[39;49;00m\u001b[33m\\n\u001b[39;49;00m\u001b[33m\"\u001b[39;49;00m, &bhuvan->st);\r\n",
      "\tfree(bhuvan);\r\n",
      "\t\u001b[34mreturn\u001b[39;49;00m \u001b[34m0\u001b[39;49;00m;\r\n",
      "\r\n",
      "}\r\n"
     ]
    }
   ],
   "source": [
    "pygmentize -g malloc-main.c"
   ]
  },
  {
   "cell_type": "code",
   "execution_count": 4,
   "metadata": {
    "collapsed": false,
    "slideshow": {
     "slide_type": "subslide"
    }
   },
   "outputs": [
    {
     "name": "stdout",
     "output_type": "stream",
     "text": [
      "Contact address:\t0x1bcd010\r\n",
      "Contact n1 location:\t0x1bcd010\r\n",
      "Contact n2 location:\t0x1bcd014\r\n",
      "Contact nst location:\t0x1bcd018\r\n"
     ]
    }
   ],
   "source": [
    "gcc malloc-main.c -o malloc-main\n",
    "./malloc-main"
   ]
  },
  {
   "cell_type": "markdown",
   "metadata": {
    "collapsed": true,
    "slideshow": {
     "slide_type": "slide"
    }
   },
   "source": [
    "## Right But What Does this have to do with <i>Our</i> Mini-Malloc?\n",
    "Well we are going to be allocating a bit more memory than we need for malloc"
   ]
  },
  {
   "cell_type": "markdown",
   "metadata": {
    "slideshow": {
     "slide_type": "slide"
    }
   },
   "source": [
    "<img src=\"Val.png\" height=\"400\">"
   ]
  },
  {
   "cell_type": "markdown",
   "metadata": {
    "slideshow": {
     "slide_type": "fragment"
    }
   },
   "source": [
    "I know awesome picture"
   ]
  },
  {
   "cell_type": "markdown",
   "metadata": {
    "slideshow": {
     "slide_type": "slide"
    }
   },
   "source": [
    "What you are going to do is \n",
    "<ul><li>Allocate the space for the metadata and the user's space in one call to malloc</li>\n",
    "<li>Blah Blah</li>\n",
    "<li>Use pointer arithmetic to get to the start of the user-requested space</li>\n",
    "</ul>\n",
    "\n",
    "The rest is in the docs"
   ]
  },
  {
   "cell_type": "markdown",
   "metadata": {
    "slideshow": {
     "slide_type": "slide"
    }
   },
   "source": [
    "## What is pointer arithmetic?"
   ]
  },
  {
   "cell_type": "markdown",
   "metadata": {
    "slideshow": {
     "slide_type": "fragment"
    }
   },
   "source": [
    "I'm glad you asked"
   ]
  },
  {
   "cell_type": "code",
   "execution_count": 5,
   "metadata": {
    "collapsed": false,
    "slideshow": {
     "slide_type": "slide"
    }
   },
   "outputs": [
    {
     "name": "stdout",
     "output_type": "stream",
     "text": [
      "\u001b[36m#\u001b[39;49;00m\u001b[36minclude\u001b[39;49;00m \u001b[37m<stdio.h>\u001b[39;49;00m\u001b[36m\u001b[39;49;00m\r\n",
      "\u001b[36m#\u001b[39;49;00m\u001b[36mdefine print_increment(var_name) \\\u001b[39;49;00m\u001b[36m\u001b[39;49;00m\r\n",
      "\u001b[36mdo { \\\u001b[39;49;00m\u001b[36m\u001b[39;49;00m\r\n",
      "\u001b[36m\tprintf(#var_name \"'s address before: %p\\n\", var_name); \\\u001b[39;49;00m\u001b[36m\u001b[39;49;00m\r\n",
      "\u001b[36m\tprintf(#var_name \"'s address after + 1: %p\\n\\n\", var_name+1); \\\u001b[39;49;00m\u001b[36m\u001b[39;49;00m\r\n",
      "\u001b[36m} \\\u001b[39;49;00m\u001b[36m\u001b[39;49;00m\r\n",
      "\u001b[36mwhile(0)\u001b[39;49;00m\u001b[36m\u001b[39;49;00m\r\n",
      "\u001b[36mint\u001b[39;49;00m \u001b[32mmain\u001b[39;49;00m(){\r\n",
      "\t\u001b[36mchar\u001b[39;49;00m *char_ptr;\r\n",
      "\t\u001b[36mint\u001b[39;49;00m *int_ptr;\r\n",
      "\t\u001b[36mdouble\u001b[39;49;00m *double_ptr;\r\n",
      "\t\u001b[36mvoid\u001b[39;49;00m *void_ptr;\r\n",
      "\r\n",
      "\tprint_increment(char_ptr);\r\n",
      "\tprint_increment(int_ptr);\r\n",
      "\tprint_increment(double_ptr);\r\n",
      "\tprint_increment(void_ptr);\r\n",
      "\t\u001b[34mreturn\u001b[39;49;00m \u001b[34m0\u001b[39;49;00m;\r\n",
      "}\r\n"
     ]
    }
   ],
   "source": [
    "pygmentize -g pointer.c"
   ]
  },
  {
   "cell_type": "code",
   "execution_count": 6,
   "metadata": {
    "collapsed": false,
    "slideshow": {
     "slide_type": "slide"
    }
   },
   "outputs": [
    {
     "name": "stdout",
     "output_type": "stream",
     "text": [
      "char_ptr's address before: 0x400600\r\n",
      "char_ptr's address after + 1: 0x400601\r\n",
      "\r\n",
      "int_ptr's address before: 0x400430\r\n",
      "int_ptr's address after + 1: 0x400434\r\n",
      "\r\n",
      "double_ptr's address before: 0x7ffe282f0b20\r\n",
      "double_ptr's address after + 1: 0x7ffe282f0b28\r\n",
      "\r\n",
      "void_ptr's address before: (nil)\r\n",
      "void_ptr's address after + 1: 0x1\r\n",
      "\r\n"
     ]
    }
   ],
   "source": [
    "gcc pointer.c -O0 -o pointer\n",
    "./pointer"
   ]
  },
  {
   "cell_type": "markdown",
   "metadata": {
    "collapsed": true,
    "slideshow": {
     "slide_type": "slide"
    }
   },
   "source": [
    "## Hey! Shouldn't we not be able to do arithmetic with void pointers?\n",
    "Technically yeah, but gcc and clang treats it as a char\\*. \n",
    "In short, don't do it because the standard doesn't gaurentee it."
   ]
  },
  {
   "cell_type": "markdown",
   "metadata": {
    "slideshow": {
     "slide_type": "slide"
    }
   },
   "source": [
    "## Lastly, Extra Space?\n",
    "What happens in the following snippet?"
   ]
  },
  {
   "cell_type": "code",
   "execution_count": 7,
   "metadata": {
    "collapsed": false,
    "slideshow": {
     "slide_type": "fragment"
    }
   },
   "outputs": [
    {
     "name": "stdout",
     "output_type": "stream",
     "text": [
      "\u001b[36mint\u001b[39;49;00m \u001b[32mmain\u001b[39;49;00m(){\r\n",
      "\tcontact* bhuvan = malloc(\u001b[34msizeof\u001b[39;49;00m(contact) + \u001b[34m100\u001b[39;49;00m);\r\n",
      "\t\u001b[34mreturn\u001b[39;49;00m \u001b[34m0\u001b[39;49;00m;\r\n",
      "}\r\n"
     ]
    }
   ],
   "source": [
    "pygmentize -g over.c"
   ]
  },
  {
   "cell_type": "markdown",
   "metadata": {
    "slideshow": {
     "slide_type": "slide"
    }
   },
   "source": [
    "## That's It!\n",
    "If you need any help with linked lists, just ask!"
   ]
  },
  {
   "cell_type": "markdown",
   "metadata": {
    "slideshow": {
     "slide_type": "fragment"
    }
   },
   "source": [
    "(Also if you thought this slideshow was helpful then tell the me, so I can make more!)"
   ]
  },
  {
   "cell_type": "code",
   "execution_count": null,
   "metadata": {
    "collapsed": true
   },
   "outputs": [],
   "source": []
  }
 ],
 "metadata": {
  "celltoolbar": "Slideshow",
  "kernelspec": {
   "display_name": "Bash",
   "language": "bash",
   "name": "bash"
  },
  "language_info": {
   "codemirror_mode": "shell",
   "file_extension": ".sh",
   "mimetype": "text/x-sh",
   "name": "bash"
  }
 },
 "nbformat": 4,
 "nbformat_minor": 1
}
