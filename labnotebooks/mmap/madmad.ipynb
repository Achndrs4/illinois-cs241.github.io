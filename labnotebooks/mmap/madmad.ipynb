{
 "cells": [
  {
   "cell_type": "markdown",
   "metadata": {
    "slideshow": {
     "slide_type": "slide"
    }
   },
   "source": [
    "# Mad Mad Access Patterns"
   ]
  },
  {
   "cell_type": "markdown",
   "metadata": {
    "slideshow": {
     "slide_type": "slide"
    }
   },
   "source": [
    "## A little bit about binary trees in case you forgot"
   ]
  },
  {
   "cell_type": "markdown",
   "metadata": {
    "slideshow": {
     "slide_type": "subslide"
    }
   },
   "source": [
    "<img src=\"https://2.bp.blogspot.com/-SKDmvFFeO4k/V_0pb7xvuSI/AAAAAAAABTo/UlEmSIX29Qg3eZBFcHaq3SETawISEYewwCLcB/s1600/deserialized-binary-tree.png\">"
   ]
  },
  {
   "cell_type": "markdown",
   "metadata": {
    "slideshow": {
     "slide_type": "subslide"
    }
   },
   "source": [
    "<img src=\"http://d2vlcm61l7u1fs.cloudfront.net/media%2F858%2F858e0ee4-80a8-4837-8e97-c1925cdbb231%2FphppObXfG.png\">"
   ]
  },
  {
   "cell_type": "markdown",
   "metadata": {
    "slideshow": {
     "slide_type": "slide"
    }
   },
   "source": [
    "## A little bit more about structs (what is that word[0]??)"
   ]
  },
  {
   "cell_type": "markdown",
   "metadata": {
    "slideshow": {
     "slide_type": "subslide"
    }
   },
   "source": [
    "<img src=\"http://www.it.uc3m.es/abel/as/DSP/M2/PointerStructExample.png\">"
   ]
  },
  {
   "cell_type": "code",
   "execution_count": 15,
   "metadata": {
    "collapsed": false,
    "slideshow": {
     "slide_type": "subslide"
    }
   },
   "outputs": [
    {
     "name": "stdout",
     "output_type": "stream",
     "text": [
      "\u001b[34mtypedef\u001b[39;49;00m \u001b[34mstruct\u001b[39;49;00m {\r\n",
      "\t\u001b[36muint32_t\u001b[39;49;00m left_child;  \r\n",
      "\t\u001b[36muint32_t\u001b[39;49;00m count;\r\n",
      "\t\u001b[36mfloat\u001b[39;49;00m price;\r\n",
      "\t\u001b[36mchar\u001b[39;49;00m word[\u001b[34m0\u001b[39;49;00m];\r\n",
      "} BinaryTreeNode;\r\n"
     ]
    }
   ],
   "source": [
    "pygmentize node.c"
   ]
  },
  {
   "cell_type": "markdown",
   "metadata": {
    "slideshow": {
     "slide_type": "slide"
    }
   },
   "source": [
    "## Okay time for fseek/ftell"
   ]
  },
  {
   "cell_type": "code",
   "execution_count": 1,
   "metadata": {
    "collapsed": false,
    "slideshow": {
     "slide_type": "subslide"
    }
   },
   "outputs": [
    {
     "name": "stdout",
     "output_type": "stream",
     "text": [
      "FSEEK(3)                   Linux Programmer's Manual                  FSEEK(3)\r\n",
      "\r\n",
      "NAME\r\n",
      "       fgetpos, fseek, fsetpos, ftell, rewind - reposition a stream\r\n",
      "\r\n",
      "SYNOPSIS\r\n",
      "       #include <stdio.h>\r\n",
      "\r\n",
      "       int fseek(FILE *stream, long offset, int whence);\r\n",
      "\r\n",
      "       long ftell(FILE *stream);\r\n",
      "\r\n",
      "       void rewind(FILE *stream);\r\n",
      "\r\n",
      "       int fgetpos(FILE *stream, fpos_t *pos);\r\n"
     ]
    }
   ],
   "source": [
    "man fseek | head -n15"
   ]
  },
  {
   "cell_type": "code",
   "execution_count": 13,
   "metadata": {
    "collapsed": false,
    "slideshow": {
     "slide_type": "subslide"
    }
   },
   "outputs": [
    {
     "name": "stdout",
     "output_type": "stream",
     "text": [
      "DESCRIPTION\r\n",
      "       The  fseek()  function  sets the file position indicator for the stream\r\n",
      "       pointed to by stream.  The new position, measured in bytes, is obtained\r\n",
      "       by  adding offset bytes to the position specified by whence.  If whence\r\n",
      "       is set to SEEK_SET, SEEK_CUR, or SEEK_END, the offset  is  relative  to\r\n",
      "       the  start of the file, the current position indicator, or end-of-file,\r\n",
      "       respectively.  A successful call to the  fseek()  function  clears  the\r\n",
      "       end-of-file  indicator  for  the  stream  and undoes any effects of the\r\n",
      "       ungetc(3) function on the same stream.\r\n"
     ]
    }
   ],
   "source": [
    "man fseek | awk '/DESCRIPTION/{x=NR+8}(NR<=x){print}' "
   ]
  },
  {
   "cell_type": "markdown",
   "metadata": {
    "slideshow": {
     "slide_type": "subslide"
    }
   },
   "source": [
    "<img src=\"http://forum.falinux.com/_clibimages/073_fseek.png\">"
   ]
  },
  {
   "cell_type": "markdown",
   "metadata": {
    "slideshow": {
     "slide_type": "subslide"
    }
   },
   "source": [
    "<img src=\"http://image.slidesharecdn.com/14-fiileio-130524022237-phpapp01/95/14-fiile-io-31-638.jpg\">"
   ]
  },
  {
   "cell_type": "markdown",
   "metadata": {
    "slideshow": {
     "slide_type": "slide"
    }
   },
   "source": [
    "## MMMMMMAP"
   ]
  },
  {
   "cell_type": "markdown",
   "metadata": {
    "slideshow": {
     "slide_type": "subslide"
    }
   },
   "source": [
    "mmap is a really cool function call, it uses memory mapped IO to emulate writing to files."
   ]
  },
  {
   "cell_type": "markdown",
   "metadata": {
    "slideshow": {
     "slide_type": "subslide"
    }
   },
   "source": [
    "## Remember This?"
   ]
  },
  {
   "cell_type": "markdown",
   "metadata": {
    "slideshow": {
     "slide_type": "subslide"
    }
   },
   "source": [
    "<img src=\"http://www.tldp.org/LDP/tlk/mm/vm.gif\">"
   ]
  },
  {
   "cell_type": "markdown",
   "metadata": {
    "slideshow": {
     "slide_type": "subslide"
    }
   },
   "source": [
    "<img src=\"https://www.safaribooksonline.com/library/view/linux-system-programming/0596009585/httpatomoreillycomsourceoreillyimages47949.png\" size=\"400px\">"
   ]
  },
  {
   "cell_type": "markdown",
   "metadata": {
    "slideshow": {
     "slide_type": "subslide"
    }
   },
   "source": [
    "<img src=\"http://www.linuxidc.com/upload/2011_08/110819060295692.gif\">"
   ]
  },
  {
   "cell_type": "markdown",
   "metadata": {
    "slideshow": {
     "slide_type": "subslide"
    }
   },
   "source": [
    "Mmapping is lazy! Entire files may not be mmapped, you may just use parts of files and assign them to memory pages as they are needed because you don't need a file until the first time you need it.\n",
    "\n",
    "Just like the function name says, mmap creates a <b>memory mapping</b> in the kernel and the kernel/CPU is free to do whatever under the hood so long as when a process asks for a memory address it will get the correct bytes and when the write happens, the write eventually goes through to the actual disk."
   ]
  },
  {
   "cell_type": "markdown",
   "metadata": {
    "slideshow": {
     "slide_type": "subslide"
    }
   },
   "source": [
    "More pointer arithmetic like finding filesystems!"
   ]
  },
  {
   "cell_type": "code",
   "execution_count": null,
   "metadata": {
    "collapsed": true
   },
   "outputs": [],
   "source": []
  }
 ],
 "metadata": {
  "celltoolbar": "Slideshow",
  "kernelspec": {
   "display_name": "Bash",
   "language": "bash",
   "name": "bash"
  },
  "language_info": {
   "codemirror_mode": "shell",
   "file_extension": ".sh",
   "mimetype": "text/x-sh",
   "name": "bash"
  }
 },
 "nbformat": 4,
 "nbformat_minor": 1
}
