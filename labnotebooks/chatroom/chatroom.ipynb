{
 "cells": [
  {
   "cell_type": "markdown",
   "metadata": {
    "slideshow": {
     "slide_type": "slide"
    }
   },
   "source": [
    "# Chatroom"
   ]
  },
  {
   "cell_type": "markdown",
   "metadata": {
    "slideshow": {
     "slide_type": "slide"
    }
   },
   "source": [
    "# TCP v UDP"
   ]
  },
  {
   "cell_type": "markdown",
   "metadata": {
    "slideshow": {
     "slide_type": "subslide"
    }
   },
   "source": [
    "<img src=\"http://ithare.com/wp-content/uploads/BB_part41_v1a.png\">"
   ]
  },
  {
   "cell_type": "markdown",
   "metadata": {
    "slideshow": {
     "slide_type": "subslide"
    }
   },
   "source": [
    "<img src=\"http://ithare.com/wp-content/uploads/BB_part43_v3.png\">"
   ]
  },
  {
   "cell_type": "markdown",
   "metadata": {
    "slideshow": {
     "slide_type": "subslide"
    }
   },
   "source": [
    "<img src=\"https://upload.wikimedia.org/wikipedia/commons/8/8c/Tcp_normal.png\">"
   ]
  },
  {
   "cell_type": "markdown",
   "metadata": {
    "slideshow": {
     "slide_type": "subslide"
    }
   },
   "source": [
    "<img src=\"http://tr1.cbsistatic.com/hub/i/2015/06/03/596ecee7-0987-11e5-940f-14feb5cc3d2a/r00220010702mul01_02.gif\">"
   ]
  },
  {
   "cell_type": "markdown",
   "metadata": {
    "slideshow": {
     "slide_type": "subslide"
    }
   },
   "source": [
    "<img src=\"http://ithare.com/wp-content/uploads/BB_part42_v2.png\">"
   ]
  },
  {
   "cell_type": "markdown",
   "metadata": {
    "slideshow": {
     "slide_type": "subslide"
    }
   },
   "source": [
    "<img src=\"https://upload.wikimedia.org/wikibooks/en/6/65/Fig3_udp_userdatagrams.jpg\">"
   ]
  },
  {
   "cell_type": "markdown",
   "metadata": {
    "slideshow": {
     "slide_type": "subslide"
    }
   },
   "source": [
    "<img src=\"https://www.bestvpnserver.com/wp-content/uploads/2013/09/UDP_vs_TCP.jpg\">"
   ]
  },
  {
   "cell_type": "markdown",
   "metadata": {
    "slideshow": {
     "slide_type": "slide"
    }
   },
   "source": [
    "# Important Calls"
   ]
  },
  {
   "cell_type": "code",
   "execution_count": 10,
   "metadata": {
    "collapsed": false,
    "slideshow": {
     "slide_type": "subslide"
    }
   },
   "outputs": [
    {
     "name": "stdout",
     "output_type": "stream",
     "text": [
      "SOCKET(2)                  Linux Programmer's Manual                 SOCKET(2)\r\n",
      "\r\n",
      "NAME\r\n",
      "       socket - create an endpoint for communication\r\n",
      "\r\n",
      "SYNOPSIS\r\n",
      "       #include <sys/types.h>          /* See NOTES */\r\n",
      "       #include <sys/socket.h>\r\n",
      "\r\n",
      "       int socket(int domain, int type, int protocol);\r\n",
      "\r\n",
      "DESCRIPTION\r\n",
      "       socket()  creates  an endpoint for communication and returns a descrip‐\r\n",
      "       tor.\r\n",
      "\r\n",
      "       The domain argument specifies a communication domain; this selects  the\r\n",
      "       protocol  family  which will be used for communication.  These families\r\n",
      "       are  defined  in  <sys/socket.h>.   The  currently  understood  formats\r\n",
      "       include:\r\n",
      "\r\n"
     ]
    }
   ],
   "source": [
    "man socket | head -n 20"
   ]
  },
  {
   "cell_type": "markdown",
   "metadata": {
    "slideshow": {
     "slide_type": "subslide"
    }
   },
   "source": [
    "<img height=\"100px\" src=\"https://openclipart.org/image/2400px/svg_to_png/212249/rodentia-icons_preferences-system-network.png\">"
   ]
  },
  {
   "cell_type": "code",
   "execution_count": 9,
   "metadata": {
    "collapsed": false,
    "slideshow": {
     "slide_type": "subslide"
    }
   },
   "outputs": [
    {
     "name": "stdout",
     "output_type": "stream",
     "text": [
      "BIND(2)                    Linux Programmer's Manual                   BIND(2)\r\n",
      "\r\n",
      "NAME\r\n",
      "       bind - bind a name to a socket\r\n",
      "\r\n",
      "SYNOPSIS\r\n",
      "       #include <sys/types.h>          /* See NOTES */\r\n",
      "       #include <sys/socket.h>\r\n",
      "\r\n",
      "       int bind(int sockfd, const struct sockaddr *addr,\r\n",
      "                socklen_t addrlen);\r\n",
      "\r\n",
      "DESCRIPTION\r\n",
      "       When  a  socket  is  created  with socket(2), it exists in a name space\r\n",
      "       (address family) but has no address assigned to it.  bind() assigns the\r\n",
      "       address  specified  by  addr  to  the  socket  referred  to by the file\r\n",
      "       descriptor sockfd.  addrlen  specifies  the  size,  in  bytes,  of  the\r\n",
      "       address structure pointed to by addr.  Traditionally, this operation is\r\n",
      "       called “assigning a name to a socket”.\r\n",
      "\r\n"
     ]
    }
   ],
   "source": [
    "man bind | head -n20"
   ]
  },
  {
   "cell_type": "markdown",
   "metadata": {
    "slideshow": {
     "slide_type": "subslide"
    }
   },
   "source": [
    "<img src=\"http://995642590.r.lightningbase-cdn.com/wp-content/uploads/2015/12/2015-12-15-Double-Bind-425x282px.jpg\">"
   ]
  },
  {
   "cell_type": "code",
   "execution_count": 11,
   "metadata": {
    "collapsed": false,
    "slideshow": {
     "slide_type": "subslide"
    }
   },
   "outputs": [
    {
     "name": "stdout",
     "output_type": "stream",
     "text": [
      "LISTEN(2)                  Linux Programmer's Manual                 LISTEN(2)\r\n",
      "\r\n",
      "NAME\r\n",
      "       listen - listen for connections on a socket\r\n",
      "\r\n",
      "SYNOPSIS\r\n",
      "       #include <sys/types.h>          /* See NOTES */\r\n",
      "       #include <sys/socket.h>\r\n",
      "\r\n",
      "       int listen(int sockfd, int backlog);\r\n",
      "\r\n",
      "DESCRIPTION\r\n",
      "       listen()  marks  the  socket referred to by sockfd as a passive socket,\r\n",
      "       that is, as a socket that will be used to  accept  incoming  connection\r\n",
      "       requests using accept(2).\r\n",
      "\r\n",
      "       The  sockfd  argument  is  a file descriptor that refers to a socket of\r\n",
      "       type SOCK_STREAM or SOCK_SEQPACKET.\r\n",
      "\r\n",
      "       The backlog argument defines the maximum length to which the  queue  of\r\n"
     ]
    }
   ],
   "source": [
    "man listen | head -n 20"
   ]
  },
  {
   "cell_type": "markdown",
   "metadata": {
    "slideshow": {
     "slide_type": "subslide"
    }
   },
   "source": [
    "<img src=\"http://calvaryfullerton.org/RichBlog/wp-content/uploads/2015/04/Listen.jpg\">"
   ]
  },
  {
   "cell_type": "code",
   "execution_count": 13,
   "metadata": {
    "collapsed": false,
    "slideshow": {
     "slide_type": "subslide"
    }
   },
   "outputs": [
    {
     "name": "stdout",
     "output_type": "stream",
     "text": [
      "ACCEPT(2)                  Linux Programmer's Manual                 ACCEPT(2)\r\n",
      "\r\n",
      "NAME\r\n",
      "       accept, accept4 - accept a connection on a socket\r\n",
      "\r\n",
      "SYNOPSIS\r\n",
      "       #include <sys/types.h>          /* See NOTES */\r\n",
      "       #include <sys/socket.h>\r\n",
      "\r\n",
      "       int accept(int sockfd, struct sockaddr *addr, socklen_t *addrlen);\r\n",
      "\r\n",
      "       #define _GNU_SOURCE             /* See feature_test_macros(7) */\r\n",
      "       #include <sys/socket.h>\r\n",
      "\r\n",
      "       int accept4(int sockfd, struct sockaddr *addr,\r\n",
      "                   socklen_t *addrlen, int flags);\r\n",
      "\r\n",
      "DESCRIPTION\r\n",
      "       The  accept()  system  call  is used with connection-based socket types\r\n",
      "       (SOCK_STREAM,  SOCK_SEQPACKET).   It  extracts  the  first   connection\r\n"
     ]
    }
   ],
   "source": [
    "man 2 accept | head -n 20"
   ]
  },
  {
   "cell_type": "markdown",
   "metadata": {
    "slideshow": {
     "slide_type": "subslide"
    }
   },
   "source": [
    "<img src=\"http://pad2.whstatic.com/images/thumb/4/42/Accept-a-Diploma-Step-4-Version-2.jpg/aid346607-728px-Accept-a-Diploma-Step-4-Version-2.jpg\">"
   ]
  },
  {
   "cell_type": "code",
   "execution_count": 14,
   "metadata": {
    "collapsed": false,
    "slideshow": {
     "slide_type": "subslide"
    }
   },
   "outputs": [
    {
     "name": "stdout",
     "output_type": "stream",
     "text": [
      "CONNECT(2)                 Linux Programmer's Manual                CONNECT(2)\r\n",
      "\r\n",
      "NAME\r\n",
      "       connect - initiate a connection on a socket\r\n",
      "\r\n",
      "SYNOPSIS\r\n",
      "       #include <sys/types.h>          /* See NOTES */\r\n",
      "       #include <sys/socket.h>\r\n",
      "\r\n",
      "       int connect(int sockfd, const struct sockaddr *addr,\r\n",
      "                   socklen_t addrlen);\r\n",
      "\r\n",
      "DESCRIPTION\r\n",
      "       The  connect()  system call connects the socket referred to by the file\r\n",
      "       descriptor sockfd to the address specified by addr.  The addrlen  argu‐\r\n",
      "       ment  specifies the size of addr.  The format of the address in addr is\r\n",
      "       determined by the address space of the socket sockfd; see socket(2) for\r\n",
      "       further details.\r\n",
      "\r\n",
      "       If the socket sockfd is of type SOCK_DGRAM, then addr is the address to\r\n"
     ]
    }
   ],
   "source": [
    "man 2 connect | head -n 20"
   ]
  },
  {
   "cell_type": "markdown",
   "metadata": {
    "slideshow": {
     "slide_type": "subslide"
    }
   },
   "source": [
    "<img src=\"http://www.linkedintraining.net/wp-content/uploads/connecting-people.jpg\">"
   ]
  },
  {
   "cell_type": "markdown",
   "metadata": {
    "slideshow": {
     "slide_type": "slide"
    }
   },
   "source": [
    "# Network Stuff"
   ]
  },
  {
   "cell_type": "markdown",
   "metadata": {
    "slideshow": {
     "slide_type": "subslide"
    }
   },
   "source": [
    "<img src=\"http://orca.st.usm.edu/~seyfarth/network_pgm/byte_ordering.png\">"
   ]
  },
  {
   "cell_type": "markdown",
   "metadata": {
    "slideshow": {
     "slide_type": "subslide"
    }
   },
   "source": [
    "<img src=\"http://i.imgur.com/k0t1e.png\">"
   ]
  },
  {
   "cell_type": "markdown",
   "metadata": {
    "slideshow": {
     "slide_type": "subslide"
    }
   },
   "source": [
    "<img src=\"https://www.isa.org/uploadedImages/Content/Standards_and_Publications/ISA_Publications/InTech_Magazine/2014/Sep-Oct/SO-2014-System-Int-figure1.jpg\">"
   ]
  },
  {
   "cell_type": "code",
   "execution_count": 18,
   "metadata": {
    "collapsed": false,
    "slideshow": {
     "slide_type": "subslide"
    }
   },
   "outputs": [
    {
     "name": "stdout",
     "output_type": "stream",
     "text": [
      "\u001b[36m#\u001b[39;49;00m\u001b[36minclude\u001b[39;49;00m \u001b[37m<errno.h>\u001b[39;49;00m\u001b[36m\u001b[39;49;00m\r\n",
      "\u001b[36m#\u001b[39;49;00m\u001b[36minclude\u001b[39;49;00m \u001b[37m<string.h>\u001b[39;49;00m\u001b[36m\u001b[39;49;00m\r\n",
      "\u001b[36m#\u001b[39;49;00m\u001b[36minclude\u001b[39;49;00m \u001b[37m<unistd.h>\u001b[39;49;00m\u001b[36m\u001b[39;49;00m\r\n",
      "\u001b[36m#\u001b[39;49;00m\u001b[36minclude\u001b[39;49;00m \u001b[37m<netdb.h>\u001b[39;49;00m\u001b[36m\u001b[39;49;00m\r\n",
      "\u001b[36m#\u001b[39;49;00m\u001b[36minclude\u001b[39;49;00m \u001b[37m<sys/socket.h>\u001b[39;49;00m\u001b[36m\u001b[39;49;00m\r\n",
      "\u001b[36m#\u001b[39;49;00m\u001b[36minclude\u001b[39;49;00m \u001b[37m<netinet/in.h>\u001b[39;49;00m\u001b[36m\u001b[39;49;00m\r\n",
      "\u001b[36m#\u001b[39;49;00m\u001b[36minclude\u001b[39;49;00m \u001b[37m<stdio.h>\u001b[39;49;00m\u001b[36m\u001b[39;49;00m\r\n",
      "\u001b[36m#\u001b[39;49;00m\u001b[36minclude\u001b[39;49;00m \u001b[37m<stdlib.h>\u001b[39;49;00m\u001b[36m\u001b[39;49;00m\r\n",
      "\r\n",
      "\u001b[36mint\u001b[39;49;00m \u001b[32mmain\u001b[39;49;00m(\u001b[36mint\u001b[39;49;00m argc, \u001b[36mchar\u001b[39;49;00m** argv) {\r\n",
      "    \u001b[34mwhile\u001b[39;49;00m(\u001b[34m1\u001b[39;49;00m) {\r\n",
      "        printf(\u001b[33m\"\u001b[39;49;00m\u001b[33mListening on port %s\u001b[39;49;00m\u001b[33m\\n\u001b[39;49;00m\u001b[33m\"\u001b[39;49;00m, portname);\r\n",
      "\r\n",
      "        \u001b[36mssize_t\u001b[39;49;00m bytes_recd=recvfrom(fd,buffer,\u001b[34msizeof\u001b[39;49;00m(buffer),\u001b[34m0\u001b[39;49;00m,(\u001b[34mstruct\u001b[39;49;00m sockaddr*)&source,&source_len);\r\n",
      "        \u001b[34mif\u001b[39;49;00m (bytes_recd==-\u001b[34m1\u001b[39;49;00m) quit(\u001b[33m\"\u001b[39;49;00m\u001b[33mrecvfrom\u001b[39;49;00m\u001b[33m\"\u001b[39;49;00m);\r\n",
      "        \u001b[34mif\u001b[39;49;00m(bytes_recd == source_len)\r\n",
      "            printf(\u001b[33m\"\u001b[39;49;00m\u001b[33mDatagram > buffer - message truncated\u001b[39;49;00m\u001b[33m\\n\u001b[39;49;00m\u001b[33m\"\u001b[39;49;00m);\r\n",
      "\r\n",
      "        \u001b[37m// Print buffer contents\u001b[39;49;00m\r\n",
      "        write(\u001b[34m1\u001b[39;49;00m, buffer, bytes_recd);\r\n",
      "        write(\u001b[34m1\u001b[39;49;00m, \u001b[33m\"\u001b[39;49;00m\u001b[33m\\n\u001b[39;49;00m\u001b[33m\"\u001b[39;49;00m,\u001b[34m1\u001b[39;49;00m);\r\n",
      "\r\n",
      "        \u001b[37m// Encrypt the message\u001b[39;49;00m\r\n",
      "        \u001b[34mfor\u001b[39;49;00m(\u001b[36mint\u001b[39;49;00m i=\u001b[34m0\u001b[39;49;00m; i < bytes_recd; i++) {\r\n",
      "            \u001b[34mif\u001b[39;49;00m( buffer[i] >= \u001b[34m64\u001b[39;49;00m) buffer[i] ^= \u001b[34m1\u001b[39;49;00m;\r\n",
      "        }\r\n",
      "\r\n",
      "        \u001b[36mint\u001b[39;49;00m flags = \u001b[34m0\u001b[39;49;00m;\r\n",
      "\r\n",
      "        \u001b[36msize_t\u001b[39;49;00m bytes_sent = sendto(fd, buffer, bytes_recd, flags, (\u001b[34mstruct\u001b[39;49;00m sockaddr*) &source, source_len);\r\n",
      "        \u001b[34mif\u001b[39;49;00m(bytes_sent==-\u001b[34m1\u001b[39;49;00m) {\r\n",
      "            quit(\u001b[33m\"\u001b[39;49;00m\u001b[33msendto\u001b[39;49;00m\u001b[33m\"\u001b[39;49;00m);\r\n",
      "        }\r\n",
      "\r\n",
      "        \u001b[34mif\u001b[39;49;00m(bytes_sent == bytes_recd ) printf(\u001b[33m\"\u001b[39;49;00m\u001b[33mReplied\u001b[39;49;00m\u001b[33m\\n\u001b[39;49;00m\u001b[33m\"\u001b[39;49;00m);\r\n",
      "        \u001b[34melse\u001b[39;49;00m  quit(\u001b[33m\"\u001b[39;49;00m\u001b[33mwrite\u001b[39;49;00m\u001b[33m\"\u001b[39;49;00m);\r\n",
      "    }\r\n",
      "    \u001b[34mreturn\u001b[39;49;00m \u001b[34m0\u001b[39;49;00m;\r\n",
      "}\r\n"
     ]
    }
   ],
   "source": [
    "pygmentize recv.c"
   ]
  },
  {
   "cell_type": "markdown",
   "metadata": {
    "slideshow": {
     "slide_type": "subslide"
    }
   },
   "source": [
    "## Remember to Set Sock Options!\n",
    "Src for Bunnies: http://ithare.com/64-network-dos-and-donts-for-game-engines-part-v-udp/"
   ]
  },
  {
   "cell_type": "markdown",
   "metadata": {},
   "source": []
  }
 ],
 "metadata": {
  "celltoolbar": "Slideshow",
  "kernelspec": {
   "display_name": "Bash",
   "language": "bash",
   "name": "bash"
  },
  "language_info": {
   "codemirror_mode": "shell",
   "file_extension": ".sh",
   "mimetype": "text/x-sh",
   "name": "bash"
  }
 },
 "nbformat": 4,
 "nbformat_minor": 1
}
