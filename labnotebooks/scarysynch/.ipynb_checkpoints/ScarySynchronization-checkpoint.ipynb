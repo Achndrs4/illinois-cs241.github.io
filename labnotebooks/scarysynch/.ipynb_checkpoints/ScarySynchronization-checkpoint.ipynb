{
 "cells": [
  {
   "cell_type": "markdown",
   "metadata": {
    "slideshow": {
     "slide_type": "slide"
    }
   },
   "source": [
    "# Scary Synchronization"
   ]
  },
  {
   "cell_type": "markdown",
   "metadata": {
    "slideshow": {
     "slide_type": "slide"
    }
   },
   "source": [
    "## Sema-MORE"
   ]
  },
  {
   "cell_type": "markdown",
   "metadata": {
    "slideshow": {
     "slide_type": "subslide"
    }
   },
   "source": [
    "<img src=\"rest.gif\">"
   ]
  },
  {
   "cell_type": "markdown",
   "metadata": {
    "slideshow": {
     "slide_type": "subslide"
    }
   },
   "source": [
    "<img src=\"semaphore.gif\">"
   ]
  },
  {
   "cell_type": "markdown",
   "metadata": {
    "slideshow": {
     "slide_type": "subslide"
    }
   },
   "source": [
    "<img src=\"sema.gif\">"
   ]
  },
  {
   "cell_type": "code",
   "execution_count": 6,
   "metadata": {
    "collapsed": false,
    "slideshow": {
     "slide_type": "subslide"
    }
   },
   "outputs": [
    {
     "name": "stdout",
     "output_type": "stream",
     "text": [
      "pthread_mutex_t m = PTHREAD_MUTEX_INITIALIZER;\r\n",
      "Semamore sem;\r\n",
      "Stack s;\r\n",
      "\u001b[36mvoid\u001b[39;49;00m* \u001b[32mtransaction_listener\u001b[39;49;00m(\u001b[36mvoid\u001b[39;49;00m*arg) {\r\n",
      "    \u001b[34mwhile\u001b[39;49;00m(\u001b[34m1\u001b[39;49;00m) {\r\n",
      "        semm_wait(&sem);\r\n",
      "        pthread_mutex_lock(&m);\r\n",
      "        stack_push(&s, get_transaction());\r\n",
      "        pthread_mutex_unlock(&m);\r\n",
      "    }\r\n",
      "}\r\n",
      "\r\n",
      "\u001b[36mvoid\u001b[39;49;00m* \u001b[32mtransaction_verifier\u001b[39;49;00m(\u001b[36mvoid\u001b[39;49;00m*useless) {\r\n",
      "    \u001b[34mwhile\u001b[39;49;00m(\u001b[34m1\u001b[39;49;00m) {\r\n",
      "        semm_post(&sem);\r\n",
      "        pthread_mutex_lock(&m);\r\n",
      "        transaction = stack_pop(&s);\r\n",
      "        verify(transaction);\r\n",
      "        pthread_mutex_unlock(&m);\r\n",
      "    }\r\n",
      "}\r\n",
      "\r\n",
      "\u001b[36mint\u001b[39;49;00m \u001b[32mmain\u001b[39;49;00m() {\r\n",
      "    game_running = \u001b[34m1\u001b[39;49;00m;\r\n",
      "    pthread_t tid1, tid2;\r\n",
      "    pthread_create(&tid1, \u001b[36mNULL\u001b[39;49;00m, transaction_listener, \u001b[36mNULL\u001b[39;49;00m);\r\n",
      "    pthread_create(&tid2, \u001b[36mNULL\u001b[39;49;00m, transaction_verifier, \u001b[36mNULL\u001b[39;49;00m);\r\n",
      "\r\n",
      "    pthread_join(tid1,\u001b[36mNULL\u001b[39;49;00m);\r\n",
      "    pthread_join(tid2,\u001b[36mNULL\u001b[39;49;00m);\r\n",
      "    exit(\u001b[34m0\u001b[39;49;00m);\r\n",
      "}\r\n"
     ]
    }
   ],
   "source": [
    "pygmentize cookie-semaphore.c"
   ]
  },
  {
   "cell_type": "markdown",
   "metadata": {
    "slideshow": {
     "slide_type": "slide"
    }
   },
   "source": [
    "### Remember to not burn CPU"
   ]
  },
  {
   "cell_type": "code",
   "execution_count": 2,
   "metadata": {
    "collapsed": false,
    "slideshow": {
     "slide_type": "fragment"
    }
   },
   "outputs": [
    {
     "name": "stdout",
     "output_type": "stream",
     "text": [
      "\u001b[34mwhile\u001b[39;49;00m(!condition)\r\n",
      "\tpthread_cond_wait(&mutex, &cv);\r\n"
     ]
    }
   ],
   "source": [
    "pygmentize spin.c"
   ]
  },
  {
   "cell_type": "markdown",
   "metadata": {
    "slideshow": {
     "slide_type": "fragment"
    }
   },
   "source": [
    "### Spurious Wakeups!"
   ]
  },
  {
   "cell_type": "markdown",
   "metadata": {
    "slideshow": {
     "slide_type": "slide"
    }
   },
   "source": [
    "## Not-So-Broken Barriers"
   ]
  },
  {
   "cell_type": "markdown",
   "metadata": {
    "slideshow": {
     "slide_type": "fragment"
    }
   },
   "source": [
    "<img src=\"barrier.gif\">"
   ]
  },
  {
   "cell_type": "code",
   "execution_count": 9,
   "metadata": {
    "collapsed": false,
    "slideshow": {
     "slide_type": "subslide"
    }
   },
   "outputs": [
    {
     "name": "stdout",
     "output_type": "stream",
     "text": [
      "\u001b[36mvoid\u001b[39;49;00m * \u001b[32mentry_point\u001b[39;49;00m(\u001b[36mvoid\u001b[39;49;00m *arg)\r\n",
      "{\r\n",
      "    \u001b[36mint\u001b[39;49;00m rank = (\u001b[36mint\u001b[39;49;00m)arg;\r\n",
      "    \u001b[34mfor\u001b[39;49;00m(\u001b[36mint\u001b[39;49;00m row in thread_range)\r\n",
      "        \u001b[34mfor\u001b[39;49;00m(\u001b[36mint\u001b[39;49;00m col = \u001b[34m0\u001b[39;49;00m; col < COLS; ++col)\r\n",
      "            DotProduct(row, col, initial_matrix, final_matrix);\r\n",
      "\r\n",
      "    \u001b[37m// Make Sure the Threads stop before moving on\u001b[39;49;00m\r\n",
      "    \u001b[36mint\u001b[39;49;00m rc = pthread_barrier_wait(&barr);\r\n",
      "\r\n",
      "    \u001b[37m//Check for error\u001b[39;49;00m\r\n",
      "    \u001b[34mif\u001b[39;49;00m(rc != \u001b[34m0\u001b[39;49;00m && rc != PTHREAD_BARRIER_SERIAL_THREAD)\r\n",
      "    {\r\n",
      "        printf(\u001b[33m\"\u001b[39;49;00m\u001b[33mCould not wait on barrier\u001b[39;49;00m\u001b[33m\\n\u001b[39;49;00m\u001b[33m\"\u001b[39;49;00m);\r\n",
      "        exit(-\u001b[34m1\u001b[39;49;00m);\r\n",
      "    }\r\n",
      "\r\n",
      "    \u001b[34mfor\u001b[39;49;00m(\u001b[36mint\u001b[39;49;00m row in thread_range)\r\n",
      "        \u001b[34mfor\u001b[39;49;00m(\u001b[36mint\u001b[39;49;00m col = \u001b[34m0\u001b[39;49;00m; col < COLS; ++col)\r\n",
      "            DotProduct(row, col, final_matrix, initial_matrix);\r\n",
      "}\r\n"
     ]
    }
   ],
   "source": [
    "pygmentize barrier.c"
   ]
  },
  {
   "cell_type": "markdown",
   "metadata": {
    "slideshow": {
     "slide_type": "subslide"
    }
   },
   "source": [
    "### Please read the wikibook!"
   ]
  },
  {
   "cell_type": "markdown",
   "metadata": {
    "slideshow": {
     "slide_type": "slide"
    }
   },
   "source": [
    "## Queues"
   ]
  },
  {
   "cell_type": "markdown",
   "metadata": {
    "slideshow": {
     "slide_type": "subslide"
    }
   },
   "source": [
    "<img src=\"buffer_anim.gif\">"
   ]
  },
  {
   "cell_type": "markdown",
   "metadata": {
    "slideshow": {
     "slide_type": "subslide"
    }
   },
   "source": [
    "### Remember This Example?"
   ]
  },
  {
   "cell_type": "code",
   "execution_count": 3,
   "metadata": {
    "collapsed": false,
    "slideshow": {
     "slide_type": "fragment"
    }
   },
   "outputs": [
    {
     "name": "stdout",
     "output_type": "stream",
     "text": [
      "\u001b[36mvoid\u001b[39;49;00m * \u001b[32mentry_point\u001b[39;49;00m(\u001b[36mvoid\u001b[39;49;00m *arg)\r\n",
      "{\r\n",
      "    \u001b[36mint\u001b[39;49;00m rank = (\u001b[36mint\u001b[39;49;00m)arg;\r\n",
      "    \u001b[34mfor\u001b[39;49;00m(\u001b[36mint\u001b[39;49;00m row in thread_range)\r\n",
      "        \u001b[34mfor\u001b[39;49;00m(\u001b[36mint\u001b[39;49;00m col = \u001b[34m0\u001b[39;49;00m; col < COLS; ++col)\r\n",
      "            DotProduct(row, col, initial_matrix, final_matrix);\r\n",
      "\r\n",
      "    \u001b[37m// Make Sure the Threads stop before moving on\u001b[39;49;00m\r\n",
      "    \u001b[36mint\u001b[39;49;00m rc = pthread_barrier_wait(&barr);\r\n",
      "\r\n",
      "    \u001b[37m//Check for error\u001b[39;49;00m\r\n",
      "    \u001b[34mif\u001b[39;49;00m(rc != \u001b[34m0\u001b[39;49;00m && rc != PTHREAD_BARRIER_SERIAL_THREAD)\r\n",
      "    {\r\n",
      "        printf(\u001b[33m\"\u001b[39;49;00m\u001b[33mCould not wait on barrier\u001b[39;49;00m\u001b[33m\\n\u001b[39;49;00m\u001b[33m\"\u001b[39;49;00m);\r\n",
      "        exit(-\u001b[34m1\u001b[39;49;00m);\r\n",
      "    }\r\n",
      "\r\n",
      "    \u001b[34mfor\u001b[39;49;00m(\u001b[36mint\u001b[39;49;00m row in thread_range)\r\n",
      "        \u001b[34mfor\u001b[39;49;00m(\u001b[36mint\u001b[39;49;00m col = \u001b[34m0\u001b[39;49;00m; col < COLS; ++col)\r\n",
      "            DotProduct(row, col, final_matrix, initial_matrix);\r\n",
      "}\r\n"
     ]
    }
   ],
   "source": [
    "pygmentize barrier.c"
   ]
  },
  {
   "cell_type": "markdown",
   "metadata": {
    "slideshow": {
     "slide_type": "subslide"
    }
   },
   "source": [
    "### Remember CS125/225!"
   ]
  },
  {
   "cell_type": "markdown",
   "metadata": {
    "collapsed": true,
    "slideshow": {
     "slide_type": "fragment"
    }
   },
   "source": [
    "Super Credit to\n",
    "https://habrahabr.ru/post/277669/ Where I got most of these animations!"
   ]
  },
  {
   "cell_type": "markdown",
   "metadata": {
    "collapsed": true,
    "slideshow": {
     "slide_type": "slide"
    }
   },
   "source": [
    "# Malloc"
   ]
  },
  {
   "cell_type": "markdown",
   "metadata": {
    "slideshow": {
     "slide_type": "subslide"
    }
   },
   "source": [
    "<img src=\"sf.png\">"
   ]
  },
  {
   "cell_type": "markdown",
   "metadata": {
    "slideshow": {
     "slide_type": "subslide"
    }
   },
   "source": [
    "<img src=\"sfl.png\">"
   ]
  },
  {
   "cell_type": "code",
   "execution_count": null,
   "metadata": {
    "collapsed": true
   },
   "outputs": [],
   "source": []
  }
 ],
 "metadata": {
  "celltoolbar": "Slideshow",
  "kernelspec": {
   "display_name": "Bash",
   "language": "bash",
   "name": "bash"
  },
  "language_info": {
   "codemirror_mode": "shell",
   "file_extension": ".sh",
   "mimetype": "text/x-sh",
   "name": "bash"
  }
 },
 "nbformat": 4,
 "nbformat_minor": 1
}
