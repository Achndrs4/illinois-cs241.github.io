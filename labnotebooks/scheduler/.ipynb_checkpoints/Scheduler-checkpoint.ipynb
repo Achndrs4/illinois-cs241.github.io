{
 "cells": [
  {
   "cell_type": "markdown",
   "metadata": {
    "slideshow": {
     "slide_type": "slide"
    }
   },
   "source": [
    "# Scheduler"
   ]
  },
  {
   "cell_type": "markdown",
   "metadata": {
    "slideshow": {
     "slide_type": "fragment"
    }
   },
   "source": [
    "We are going to be talking about scheduling today"
   ]
  },
  {
   "cell_type": "markdown",
   "metadata": {
    "slideshow": {
     "slide_type": "fragment"
    }
   },
   "source": [
    "Let's assume that we have one CPU to run everything"
   ]
  },
  {
   "cell_type": "markdown",
   "metadata": {
    "slideshow": {
     "slide_type": "slide"
    }
   },
   "source": [
    "# Shortest Job First - SJF"
   ]
  },
  {
   "cell_type": "markdown",
   "metadata": {
    "slideshow": {
     "slide_type": "fragment"
    }
   },
   "source": [
    "At any time, analyze all the processes that you have. Run the job with the shortest runtime. Repeat until finished."
   ]
  },
  {
   "cell_type": "markdown",
   "metadata": {
    "slideshow": {
     "slide_type": "subslide"
    }
   },
   "source": [
    "<img src=\"SJF.png\">"
   ]
  },
  {
   "cell_type": "code",
   "execution_count": 2,
   "metadata": {
    "collapsed": false,
    "slideshow": {
     "slide_type": "subslide"
    }
   },
   "outputs": [
    {
     "name": "stdout",
     "output_type": "stream",
     "text": [
      "\u001b[36mint\u001b[39;49;00m* jobs; \u001b[37m//New Jobs get added\u001b[39;49;00m\r\n",
      "\r\n",
      "\u001b[36mint\u001b[39;49;00m \u001b[32mshortest_job_first\u001b[39;49;00m(){\r\n",
      "\t\u001b[34mwhile\u001b[39;49;00m(\u001b[34m1\u001b[39;49;00m){\r\n",
      "\t\t\u001b[36mint\u001b[39;49;00m job = get_shortest_job(jobs);\r\n",
      "\t\trun_job(job);\r\n",
      "\t}\r\n",
      "}\r\n"
     ]
    }
   ],
   "source": [
    "pygmentize sjf.c"
   ]
  },
  {
   "cell_type": "markdown",
   "metadata": {
    "slideshow": {
     "slide_type": "slide"
    }
   },
   "source": [
    "# Preemptive Shortest Job First - PSJF"
   ]
  },
  {
   "cell_type": "markdown",
   "metadata": {
    "slideshow": {
     "slide_type": "fragment"
    }
   },
   "source": [
    "Start running the shortest job. If a shorter job comes in, then stop the current job then start the next one."
   ]
  },
  {
   "cell_type": "markdown",
   "metadata": {
    "slideshow": {
     "slide_type": "subslide"
    }
   },
   "source": [
    "<img src=\"PSJF.png\">"
   ]
  },
  {
   "cell_type": "code",
   "execution_count": 3,
   "metadata": {
    "collapsed": false,
    "slideshow": {
     "slide_type": "subslide"
    }
   },
   "outputs": [
    {
     "name": "stdout",
     "output_type": "stream",
     "text": [
      "\u001b[36mint\u001b[39;49;00m* jobs; \u001b[37m//New Jobs get added\u001b[39;49;00m\r\n",
      "\r\n",
      "\u001b[36mint\u001b[39;49;00m \u001b[32mpreempt_callback\u001b[39;49;00m(job_num, new_job){\r\n",
      "\t\u001b[34mif\u001b[39;49;00m(time_remaining(job_num) > \r\n",
      "\t\ttime_remaining(new_job)){\r\n",
      "\t\t\u001b[34mreturn\u001b[39;49;00m new_job;\r\n",
      "\t}\r\n",
      "\t\u001b[34mreturn\u001b[39;49;00m job_num;\r\n",
      "}\r\n",
      "\r\n",
      "\u001b[36mint\u001b[39;49;00m \u001b[32mpreemptive_shortest_job_first\u001b[39;49;00m(){\r\n",
      "\t\u001b[34mwhile\u001b[39;49;00m(\u001b[34m1\u001b[39;49;00m){\r\n",
      "\t\t\u001b[36mint\u001b[39;49;00m job = get_shortest_job(jobs);\r\n",
      "\t\trun_job(job, preempt_callback);\r\n",
      "\t}\r\n",
      "}\r\n"
     ]
    }
   ],
   "source": [
    "pygmentize psjf.c"
   ]
  },
  {
   "cell_type": "markdown",
   "metadata": {
    "slideshow": {
     "slide_type": "slide"
    }
   },
   "source": [
    "# First Come First Served - FCFS"
   ]
  },
  {
   "cell_type": "markdown",
   "metadata": {
    "slideshow": {
     "slide_type": "fragment"
    }
   },
   "source": [
    "A process comes in, it get's served!"
   ]
  },
  {
   "cell_type": "markdown",
   "metadata": {
    "slideshow": {
     "slide_type": "subslide"
    }
   },
   "source": [
    "<img src=\"FCFS.png\">"
   ]
  },
  {
   "cell_type": "code",
   "execution_count": 6,
   "metadata": {
    "collapsed": false,
    "slideshow": {
     "slide_type": "subslide"
    }
   },
   "outputs": [
    {
     "name": "stdout",
     "output_type": "stream",
     "text": [
      "\u001b[36mint\u001b[39;49;00m \u001b[32mfirst_come_first_served\u001b[39;49;00m(){\r\n",
      "\t\u001b[34mwhile\u001b[39;49;00m(\u001b[34m1\u001b[39;49;00m){\r\n",
      "\t\t\u001b[36mint\u001b[39;49;00m job = accept_first_job();\r\n",
      "\t\trun_job(job);\r\n",
      "\t}\r\n",
      "}\r\n"
     ]
    }
   ],
   "source": [
    "pygmentize fcfs.c"
   ]
  },
  {
   "cell_type": "markdown",
   "metadata": {
    "slideshow": {
     "slide_type": "slide"
    }
   },
   "source": [
    "## Round Robin - RR"
   ]
  },
  {
   "cell_type": "markdown",
   "metadata": {
    "slideshow": {
     "slide_type": "fragment"
    }
   },
   "source": [
    "Let each job run for a bit of time (a quantum). If that job is not done, add it to the queue and move on to the next one."
   ]
  },
  {
   "cell_type": "markdown",
   "metadata": {
    "slideshow": {
     "slide_type": "subslide"
    }
   },
   "source": [
    "<img src=\"RR.png\">"
   ]
  },
  {
   "cell_type": "code",
   "execution_count": 1,
   "metadata": {
    "collapsed": false,
    "slideshow": {
     "slide_type": "subslide"
    }
   },
   "outputs": [
    {
     "name": "stdout",
     "output_type": "stream",
     "text": [
      "\u001b[36mint\u001b[39;49;00m* job_queue; \u001b[37m//New Jobs get added\u001b[39;49;00m\r\n",
      "\r\n",
      "\u001b[36mint\u001b[39;49;00m \u001b[32mround_robin\u001b[39;49;00m(){\r\n",
      "\t\u001b[34mwhile\u001b[39;49;00m(\u001b[34m1\u001b[39;49;00m){\r\n",
      "\t\t\u001b[36mint\u001b[39;49;00m job = pull_job(job_queue);\r\n",
      "\t\trun_job_quantum(job, QUANTUM_TIME);\r\n",
      "\t\t\u001b[34mif\u001b[39;49;00m(!job_done(job)){\r\n",
      "\t\t\tqueue_job(job_queue, job);\r\n",
      "\t\t}\r\n",
      "\t}\r\n",
      "}\r\n"
     ]
    }
   ],
   "source": [
    "pygmentize rr.c"
   ]
  },
  {
   "cell_type": "markdown",
   "metadata": {
    "collapsed": true,
    "slideshow": {
     "slide_type": "slide"
    }
   },
   "source": [
    "# Metrics"
   ]
  },
  {
   "cell_type": "markdown",
   "metadata": {
    "slideshow": {
     "slide_type": "fragment"
    }
   },
   "source": [
    "* Arrival time is the time the process gets into the scheduler\n",
    "* Start time is when the CPU starts running instructions\n",
    "* End time is when the CPU ends instructions\n",
    "* Duration is how much time the CPU spends running instructions"
   ]
  },
  {
   "cell_type": "markdown",
   "metadata": {
    "slideshow": {
     "slide_type": "subslide"
    }
   },
   "source": [
    "## Wait time\n",
    "wait_time = `end_time` - `arrival_time` - `duration`"
   ]
  },
  {
   "cell_type": "markdown",
   "metadata": {
    "slideshow": {
     "slide_type": "fragment"
    }
   },
   "source": [
    "## Turnaround Time\n",
    "`turnaround_time` = `end_time` - `arrival_time`"
   ]
  },
  {
   "cell_type": "markdown",
   "metadata": {
    "slideshow": {
     "slide_type": "fragment"
    }
   },
   "source": [
    "## Response Time\n",
    "`response_time` = `start_time` - `arrival_time`"
   ]
  },
  {
   "cell_type": "code",
   "execution_count": null,
   "metadata": {
    "collapsed": true
   },
   "outputs": [],
   "source": []
  }
 ],
 "metadata": {
  "celltoolbar": "Slideshow",
  "kernelspec": {
   "display_name": "Bash",
   "language": "bash",
   "name": "bash"
  },
  "language_info": {
   "codemirror_mode": "shell",
   "file_extension": ".sh",
   "mimetype": "text/x-sh",
   "name": "bash"
  }
 },
 "nbformat": 4,
 "nbformat_minor": 1
}
