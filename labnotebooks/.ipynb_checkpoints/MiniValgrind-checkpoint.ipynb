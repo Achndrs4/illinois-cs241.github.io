{
 "cells": [
  {
   "cell_type": "markdown",
   "metadata": {},
   "source": [
    "# Memory in C"
   ]
  },
  {
   "cell_type": "markdown",
   "metadata": {},
   "source": [
    "So we are going to do a little review of memory and offsets in C. There are a fair amount of you which haven't taken 233 (Which is okay!) but we need to get you up to speed on the prerequisites. So here is a struct."
   ]
  },
  {
   "cell_type": "markdown",
   "metadata": {},
   "source": [
    "<img src=\"PointerStructExample.png\">"
   ]
  },
  {
   "cell_type": "markdown",
   "metadata": {},
   "source": [
    "How we are going to lay this out in memory is with offsets. We will malloc a certain amount of space and each of the variables will take up space right next to each other and take up as much space as the variable is defined to in the standard."
   ]
  },
  {
   "cell_type": "markdown",
   "metadata": {},
   "source": [
    "### So how does this look with some actually simple code?"
   ]
  },
  {
   "cell_type": "code",
   "execution_count": 8,
   "metadata": {
    "collapsed": false
   },
   "outputs": [
    {
     "name": "stdout",
     "output_type": "stream",
     "text": [
      "#include <stdio.h>\r\n",
      "\r\n",
      "typedef struct\r\n",
      "{\r\n",
      "\tint n1;\r\n",
      "\tfloat n2;\r\n",
      "\tchar st[10];\r\n",
      "} contact;\r\n",
      "\r\n",
      "int main(){\r\n",
      "\tcontact bhuvan;\r\n",
      "\tprintf(\"Contact address:\\t%p\\n\", &bhuvan);\r\n",
      "\tprintf(\"Contact n1 location:\\t%p\\n\", &bhuvan.n1);\r\n",
      "\tprintf(\"Contact n2 location:\\t%p\\n\", &bhuvan.n2);\r\n",
      "\tprintf(\"Contact nst location:\\t%p\\n\", &bhuvan.st);\r\n",
      "\r\n",
      "\treturn 0;\r\n",
      "\r\n",
      "}"
     ]
    }
   ],
   "source": [
    "cat main.c"
   ]
  },
  {
   "cell_type": "code",
   "execution_count": 7,
   "metadata": {
    "collapsed": false
   },
   "outputs": [
    {
     "name": "stdout",
     "output_type": "stream",
     "text": [
      "Contact address:\t0x7fffb757f3a0\r\n",
      "Contact n1 location:\t0x7fffb757f3a0\r\n",
      "Contact n2 location:\t0x7fffb757f3a4\r\n",
      "Contact nst location:\t0x7fffb757f3a8\r\n"
     ]
    }
   ],
   "source": [
    "gcc main.c -o stack\n",
    "./stack"
   ]
  },
  {
   "cell_type": "markdown",
   "metadata": {},
   "source": [
    "### So what does this mean?"
   ]
  },
  {
   "cell_type": "markdown",
   "metadata": {},
   "source": [
    "GCC or Clang or whatever compiler you use calculates offsets form the base address of your contact (in this case bhuvan). It knows that the first element is at offset 0 and the second element is at offset +4 and the third element is at offset +8 from your starting address."
   ]
  },
  {
   "cell_type": "markdown",
   "metadata": {},
   "source": [
    "### Cool So What does this have to do with Malloc?"
   ]
  },
  {
   "cell_type": "markdown",
   "metadata": {},
   "source": [
    "Well malloc does the same thing essentially, except this time it is through the magic of the arrow notation."
   ]
  },
  {
   "cell_type": "code",
   "execution_count": 13,
   "metadata": {
    "collapsed": false
   },
   "outputs": [
    {
     "name": "stdout",
     "output_type": "stream",
     "text": [
      "#include <stdio.h>\r\n",
      "#include <stdlib.h>\r\n",
      "typedef struct\r\n",
      "{\r\n",
      "\tint n1;\r\n",
      "\tfloat n2;\r\n",
      "\tchar st[10];\r\n",
      "} contact;\r\n",
      "\r\n",
      "int main(){\r\n",
      "\tcontact* bhuvan = malloc(sizeof(*bhuvan));\r\n",
      "\tprintf(\"Contact address:\\t%p\\n\", bhuvan);\r\n",
      "\tprintf(\"Contact n1 location:\\t%p\\n\", &bhuvan->n1);\r\n",
      "\tprintf(\"Contact n2 location:\\t%p\\n\", &bhuvan->n2);\r\n",
      "\tprintf(\"Contact nst location:\\t%p\\n\", &bhuvan->st);\r\n",
      "\tfree(bhuvan);\r\n",
      "\treturn 0;\r\n",
      "\r\n",
      "}"
     ]
    }
   ],
   "source": [
    "cat malloc-main.c"
   ]
  },
  {
   "cell_type": "code",
   "execution_count": 14,
   "metadata": {
    "collapsed": false
   },
   "outputs": [
    {
     "name": "stdout",
     "output_type": "stream",
     "text": [
      "Contact address:\t0x8b1010\r\n",
      "Contact n1 location:\t0x8b1010\r\n",
      "Contact n2 location:\t0x8b1014\r\n",
      "Contact nst location:\t0x8b1018\r\n"
     ]
    }
   ],
   "source": [
    "gcc malloc-main.c -o malloc-main\n",
    "./malloc-main"
   ]
  },
  {
   "cell_type": "code",
   "execution_count": null,
   "metadata": {
    "collapsed": true
   },
   "outputs": [],
   "source": []
  }
 ],
 "metadata": {
  "kernelspec": {
   "display_name": "Bash",
   "language": "bash",
   "name": "bash"
  },
  "language_info": {
   "codemirror_mode": "shell",
   "file_extension": ".sh",
   "mimetype": "text/x-sh",
   "name": "bash"
  }
 },
 "nbformat": 4,
 "nbformat_minor": 1
}
