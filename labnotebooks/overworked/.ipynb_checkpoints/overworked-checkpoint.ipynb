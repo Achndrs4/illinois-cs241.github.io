{
 "cells": [
  {
   "cell_type": "markdown",
   "metadata": {
    "slideshow": {
     "slide_type": "slide"
    }
   },
   "source": [
    "# Overworked Interns"
   ]
  },
  {
   "cell_type": "markdown",
   "metadata": {
    "slideshow": {
     "slide_type": "slide"
    }
   },
   "source": [
    "<img src=\"traffic.gif\">"
   ]
  },
  {
   "cell_type": "markdown",
   "metadata": {
    "slideshow": {
     "slide_type": "subslide"
    }
   },
   "source": [
    "<img src=\"dining.gif\" style=\"height:600px\">"
   ]
  },
  {
   "cell_type": "markdown",
   "metadata": {
    "slideshow": {
     "slide_type": "subslide"
    }
   },
   "source": [
    "<img src=\"dogdining.gif\" style=\"height:600px\">"
   ]
  },
  {
   "cell_type": "markdown",
   "metadata": {
    "slideshow": {
     "slide_type": "slide"
    }
   },
   "source": [
    "### Read More at\n",
    "http://adit.io/posts/2013-05-11-The-Dining-Philosophers-Problem-With-Ron-Swanson.html\n",
    "\n",
    "### Google \"Ron Swanson Dining Philosophers\""
   ]
  },
  {
   "cell_type": "markdown",
   "metadata": {
    "slideshow": {
     "slide_type": "slide"
    }
   },
   "source": [
    "# Coffman Conditions"
   ]
  },
  {
   "cell_type": "markdown",
   "metadata": {
    "slideshow": {
     "slide_type": "fragment"
    }
   },
   "source": [
    "Mutual Exclusion"
   ]
  },
  {
   "cell_type": "markdown",
   "metadata": {
    "slideshow": {
     "slide_type": "fragment"
    }
   },
   "source": [
    "Circular Wait"
   ]
  },
  {
   "cell_type": "markdown",
   "metadata": {
    "slideshow": {
     "slide_type": "fragment"
    }
   },
   "source": [
    "Hold and Wait"
   ]
  },
  {
   "cell_type": "markdown",
   "metadata": {
    "slideshow": {
     "slide_type": "fragment"
    }
   },
   "source": [
    "No pre-emption"
   ]
  },
  {
   "cell_type": "markdown",
   "metadata": {
    "slideshow": {
     "slide_type": "slide"
    }
   },
   "source": [
    "## Some failed solutions"
   ]
  },
  {
   "cell_type": "markdown",
   "metadata": {
    "slideshow": {
     "slide_type": "subslide"
    }
   },
   "source": [
    "## Please Don't"
   ]
  },
  {
   "cell_type": "code",
   "execution_count": 2,
   "metadata": {
    "collapsed": false,
    "slideshow": {
     "slide_type": "fragment"
    }
   },
   "outputs": [
    {
     "name": "stdout",
     "output_type": "stream",
     "text": [
      "\u001b[36mvoid\u001b[39;49;00m * \u001b[32mPhilPhunction\u001b[39;49;00m(\u001b[36mvoid\u001b[39;49;00m *p) {\r\n",
      "    Philosopher *phil = (Philosopher*)p;\r\n",
      "    \u001b[36mint\u001b[39;49;00m failed;\r\n",
      "    \u001b[36mint\u001b[39;49;00m tries_left;\r\n",
      "    pthread_mutex_t *fork_lft = phil->fork_lft;\r\n",
      "    pthread_mutex_t *fork_rgt = phil->fork_rgt;\r\n",
      "    \r\n",
      "    \u001b[34mwhile\u001b[39;49;00m (running) {\r\n",
      "        pthread_mutex_lock(fork_lft);\r\n",
      "        pthread_mutex_lock(fork_rgt);\r\n",
      "        usleep( \u001b[34m1\u001b[39;49;00m+ rand() % \u001b[34m8\u001b[39;49;00m);\r\n",
      "\r\n",
      "    }\r\n",
      "    \u001b[34mreturn\u001b[39;49;00m \u001b[36mNULL\u001b[39;49;00m;\r\n",
      "}\r\n"
     ]
    }
   ],
   "source": [
    "pygmentize dumb.c"
   ]
  },
  {
   "cell_type": "markdown",
   "metadata": {
    "slideshow": {
     "slide_type": "slide"
    }
   },
   "source": [
    "## Better, but may livelock"
   ]
  },
  {
   "cell_type": "code",
   "execution_count": 5,
   "metadata": {
    "collapsed": false,
    "slideshow": {
     "slide_type": "fragment"
    }
   },
   "outputs": [
    {
     "name": "stdout",
     "output_type": "stream",
     "text": [
      "\u001b[36mvoid\u001b[39;49;00m * \u001b[32mPhilPhunction\u001b[39;49;00m(\u001b[36mvoid\u001b[39;49;00m *p) {\r\n",
      "    Philosopher *phil = (Philosopher*)p;\r\n",
      "    \u001b[36mint\u001b[39;49;00m failed;\r\n",
      "    \u001b[36mint\u001b[39;49;00m tries_left;\r\n",
      "    pthread_mutex_t *fork_lft = phil->fork_lft;\r\n",
      "    pthread_mutex_t *fork_rgt = phil->fork_rgt;\r\n",
      "    \u001b[36mint\u001b[39;49;00m tries_left;\r\n",
      "    \u001b[34mwhile\u001b[39;49;00m (running) {\r\n",
      "        tries_left = \u001b[34m3\u001b[39;49;00m\r\n",
      "        \u001b[34mdo\u001b[39;49;00m {\r\n",
      "            failed = pthread_mutex_lock( fork_lft);\r\n",
      "            failed = (tries_left>\u001b[34m0\u001b[39;49;00m)? pthread_mutex_trylock( fork_rgt )\r\n",
      "                                    : pthread_mutex_lock(fork_rgt);\r\n",
      "            \r\n",
      "            \u001b[34mif\u001b[39;49;00m (failed) {\r\n",
      "                pthread_mutex_unlock( fork_lft);\r\n",
      "                tries_left--;\r\n",
      "            }\r\n",
      "        } \u001b[34mwhile\u001b[39;49;00m(failed && running);\r\n",
      "        \r\n",
      "        \u001b[34mif\u001b[39;49;00m (!failed) {    \r\n",
      "            usleep( \u001b[34m1\u001b[39;49;00m+ rand() % \u001b[34m8\u001b[39;49;00m); \u001b[37m//eat\u001b[39;49;00m\r\n",
      "            pthread_mutex_unlock(fork_rgt);\r\n",
      "            pthread_mutex_unlock(fork_lft);\r\n",
      "        }\r\n",
      "    }\r\n",
      "    \u001b[34mreturn\u001b[39;49;00m \u001b[36mNULL\u001b[39;49;00m;\r\n",
      "}\r\n"
     ]
    }
   ],
   "source": [
    "pygmentize livelock.c"
   ]
  },
  {
   "cell_type": "markdown",
   "metadata": {
    "slideshow": {
     "slide_type": "slide"
    }
   },
   "source": [
    "# Stuff that works! (In order of speed)"
   ]
  },
  {
   "cell_type": "markdown",
   "metadata": {
    "slideshow": {
     "slide_type": "subslide"
    }
   },
   "source": [
    "## 1. Arbitrator"
   ]
  },
  {
   "cell_type": "markdown",
   "metadata": {
    "slideshow": {
     "slide_type": "fragment"
    }
   },
   "source": [
    "Have one authority (mutex in the case of c). Have each philosopher grab that authority and only when they have the authority can they pick up their forks and eat. They eat, put the arbitrator and the forks down and move on to the next philosopher (can be random or sequential)."
   ]
  },
  {
   "cell_type": "markdown",
   "metadata": {
    "slideshow": {
     "slide_type": "fragment"
    }
   },
   "source": [
    "## Downsides\n",
    "- Very slow\n",
    "- Only one thread running at a time essentially\n",
    "- This is python's GIL in a nutshell"
   ]
  },
  {
   "cell_type": "markdown",
   "metadata": {
    "slideshow": {
     "slide_type": "slide"
    }
   },
   "source": [
    "## 2. Leave the table (Stallings)"
   ]
  },
  {
   "cell_type": "markdown",
   "metadata": {
    "slideshow": {
     "slide_type": "fragment"
    }
   },
   "source": [
    "Reduce the case of the dining philosophers to a case of n-chopsticks and p-philosophers. Reduce the number of philosophers currently allowed at the table to n-1. Have them eat. Cycle out the philosophers."
   ]
  },
  {
   "cell_type": "markdown",
   "metadata": {
    "slideshow": {
     "slide_type": "fragment"
    }
   },
   "source": [
    "### Downsides\n",
    "- Very heavy on context switchings for process\n",
    "- Needs way of keeping the philosophers at bay (SIGSTOP for linux kernel)\n",
    "- Needs some cycling algorithm"
   ]
  },
  {
   "cell_type": "markdown",
   "metadata": {
    "slideshow": {
     "slide_type": "slide"
    }
   },
   "source": [
    "## 3. Partial Ordering (Dijkstra)"
   ]
  },
  {
   "cell_type": "markdown",
   "metadata": {
    "slideshow": {
     "slide_type": "fragment"
    }
   },
   "source": [
    "Order the chopsticks 1..n. For each philosopher have them pick up the lower number chopstick. Then, only if they can pick up the lower chopstick, pick up the higher chopstick. Why does this work?"
   ]
  },
  {
   "cell_type": "markdown",
   "metadata": {
    "slideshow": {
     "slide_type": "fragment"
    }
   },
   "source": [
    "### Downsides\n",
    "- Needs the locks/resources all at once to generate the list\n",
    "- Doesn't livelock but often leads one thread working at a time for large applications (databases)\n",
    "- But good for dining philosophers!"
   ]
  },
  {
   "cell_type": "markdown",
   "metadata": {
    "slideshow": {
     "slide_type": "slide"
    }
   },
   "source": [
    "## 4. Clean/Dirty (Chandra/Misra)\n",
    "If you want reeealllllllly fast (Given a lot of philosophers)"
   ]
  },
  {
   "cell_type": "code",
   "execution_count": null,
   "metadata": {
    "collapsed": true,
    "slideshow": {
     "slide_type": "slide"
    }
   },
   "outputs": [],
   "source": []
  }
 ],
 "metadata": {
  "celltoolbar": "Slideshow",
  "kernelspec": {
   "display_name": "Bash",
   "language": "bash",
   "name": "bash"
  },
  "language_info": {
   "codemirror_mode": "shell",
   "file_extension": ".sh",
   "mimetype": "text/x-sh",
   "name": "bash"
  }
 },
 "nbformat": 4,
 "nbformat_minor": 1
}
