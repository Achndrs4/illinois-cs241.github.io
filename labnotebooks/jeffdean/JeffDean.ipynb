{
 "cells": [
  {
   "cell_type": "markdown",
   "metadata": {
    "slideshow": {
     "slide_type": "slide"
    }
   },
   "source": [
    "# Map Reduce"
   ]
  },
  {
   "cell_type": "markdown",
   "metadata": {
    "slideshow": {
     "slide_type": "fragment"
    }
   },
   "source": [
    "##### Aka Jeff Dean's Lab"
   ]
  },
  {
   "cell_type": "markdown",
   "metadata": {
    "slideshow": {
     "slide_type": "subslide"
    }
   },
   "source": [
    "<img src=\"jeff-dean.jpg\" height=\"400px\">"
   ]
  },
  {
   "cell_type": "markdown",
   "metadata": {
    "slideshow": {
     "slide_type": "subslide"
    }
   },
   "source": [
    "## Minimum 5 Jeff Dean Jokes"
   ]
  },
  {
   "cell_type": "markdown",
   "metadata": {
    "slideshow": {
     "slide_type": "fragment"
    }
   },
   "source": [
    "\"The speed of light in a vacuum used to be about 35 mph. Then Jeff Dean spent a weekend optimizing physics.\""
   ]
  },
  {
   "cell_type": "markdown",
   "metadata": {
    "slideshow": {
     "slide_type": "fragment"
    }
   },
   "source": [
    "\"Jeff Dean was forced to invent asynchronous APIs one day when he optimized a function so that it returned before it was invoked.\""
   ]
  },
  {
   "cell_type": "markdown",
   "metadata": {
    "slideshow": {
     "slide_type": "fragment"
    }
   },
   "source": [
    "\"When Jeff has trouble sleeping, he Mapreduces sheep.\""
   ]
  },
  {
   "cell_type": "markdown",
   "metadata": {
    "slideshow": {
     "slide_type": "fragment"
    }
   },
   "source": [
    "\"Jeff Dean compiles and runs his code before submitting, but only to check for compiler and CPU bugs.\"\n"
   ]
  },
  {
   "cell_type": "markdown",
   "metadata": {
    "slideshow": {
     "slide_type": "fragment"
    }
   },
   "source": [
    "\"Jeff Dean can beat you at connect four. In three moves.\""
   ]
  },
  {
   "cell_type": "markdown",
   "metadata": {
    "slideshow": {
     "slide_type": "slide"
    }
   },
   "source": [
    "# Time For Mapreduce"
   ]
  },
  {
   "cell_type": "markdown",
   "metadata": {
    "slideshow": {
     "slide_type": "fragment"
    }
   },
   "source": [
    "<img src=\"po-boy-mapreduce.png\">"
   ]
  },
  {
   "cell_type": "markdown",
   "metadata": {
    "slideshow": {
     "slide_type": "subslide"
    }
   },
   "source": [
    "<img src=\"mapreduce-animation.gif\" height=\"100px\">"
   ]
  },
  {
   "cell_type": "markdown",
   "metadata": {
    "slideshow": {
     "slide_type": "subslide"
    }
   },
   "source": [
    "<img src=\"mapreduce_mapshuffle.png\">"
   ]
  },
  {
   "cell_type": "markdown",
   "metadata": {
    "slideshow": {
     "slide_type": "slide"
    }
   },
   "source": [
    "# HADOOOOOOOOP"
   ]
  },
  {
   "cell_type": "markdown",
   "metadata": {
    "slideshow": {
     "slide_type": "fragment"
    }
   },
   "source": [
    "<img src=\"hadoop.jpg\">"
   ]
  },
  {
   "cell_type": "markdown",
   "metadata": {
    "slideshow": {
     "slide_type": "fragment"
    }
   },
   "source": [
    "<img src=\"Hadoop_elephants.jpg\">"
   ]
  },
  {
   "cell_type": "markdown",
   "metadata": {
    "slideshow": {
     "slide_type": "slide"
    }
   },
   "source": [
    "# Okay Enough About Map Reduce -- IPC"
   ]
  },
  {
   "cell_type": "markdown",
   "metadata": {
    "slideshow": {
     "slide_type": "subslide"
    }
   },
   "source": [
    "## Why do I need to close pipes?"
   ]
  },
  {
   "cell_type": "markdown",
   "metadata": {
    "slideshow": {
     "slide_type": "fragment"
    }
   },
   "source": [
    "If you don't close your pipes properly (the unused ends), then your application can deadlock. When you do a read to a closed pipe you get an error code, when you do a write to a closed pipe you get a SIGPIPE. Both of these are vital to closing the application."
   ]
  },
  {
   "cell_type": "markdown",
   "metadata": {
    "slideshow": {
     "slide_type": "fragment"
    }
   },
   "source": [
    "<img src=\"pipe.png\">"
   ]
  },
  {
   "cell_type": "markdown",
   "metadata": {
    "slideshow": {
     "slide_type": "slide"
    }
   },
   "source": [
    "## Okay So How?"
   ]
  },
  {
   "cell_type": "code",
   "execution_count": 12,
   "metadata": {
    "collapsed": false,
    "slideshow": {
     "slide_type": "fragment"
    }
   },
   "outputs": [
    {
     "name": "stdout",
     "output_type": "stream",
     "text": [
      "       for interprocess communication.  The array pipefd is used to return two\r\n",
      "       file  descriptors  referring to the ends of the pipe.  pipefd[0] refers\r\n",
      "       to the read end of the pipe.  pipefd[1] refers to the write end of  the\r\n",
      "       pipe.   Data  written  to  the write end of the pipe is buffered by the\r\n",
      "       kernel until it is read from the read end of  the  pipe.   For  further\r\n",
      "       details, see pipe(7).\r\n",
      "\r\n",
      "       If  flags is 0, then pipe2() is the same as pipe().  The following val‐\r\n",
      "       ues can be bitwise ORed in flags to obtain different behavior:\r\n",
      "\r\n",
      "       \u001b[01;31m\u001b[KO_CLOEXEC\u001b[m\u001b[K\r\n",
      "              Set the close-on-exec (FD_CLOEXEC) flag  on  the  two  new  file\r\n",
      "              descriptors.   See  the  description of the same flag in open(2)\r\n",
      "              for reasons why this may be useful.\r\n",
      "\r\n",
      "       O_DIRECT (since Linux 3.4)\r\n",
      "              Create a pipe that performs I/O in \"packet\" mode.  Each write(2)\r\n",
      "              to  the  pipe  is  dealt with as a separate packet, and read(2)s\r\n",
      "              from the pipe will read one packet at a time.  Note the  follow‐\r\n",
      "              ing points:\r\n",
      "\r\n"
     ]
    }
   ],
   "source": [
    "man pipe2 | grep -C 10 O_CLOEXEC"
   ]
  },
  {
   "cell_type": "markdown",
   "metadata": {
    "slideshow": {
     "slide_type": "slide"
    }
   },
   "source": [
    "## But don't we need the pipes? Dup2?"
   ]
  },
  {
   "cell_type": "markdown",
   "metadata": {
    "slideshow": {
     "slide_type": "subslide"
    }
   },
   "source": [
    "<img src=\"l9_1dup.gif\">"
   ]
  },
  {
   "cell_type": "code",
   "execution_count": 17,
   "metadata": {
    "collapsed": false,
    "slideshow": {
     "slide_type": "subslide"
    }
   },
   "outputs": [
    {
     "name": "stdout",
     "output_type": "stream",
     "text": [
      "DUP(2)                     Linux Programmer's Manual                    DUP(2)\r\n",
      "\r\n",
      "NAME\r\n",
      "       dup, dup2, dup3 - duplicate a file descriptor\r\n",
      "\r\n",
      "SYNOPSIS\r\n",
      "       #include <unistd.h>\r\n",
      "\r\n",
      "       int dup(int oldfd);\r\n",
      "       int dup2(int oldfd, int newfd);\r\n",
      "\r\n",
      "       #define _GNU_SOURCE             /* See feature_test_macros(7) */\r\n",
      "       #include <fcntl.h>              /* Obtain O_* constant definitions */\r\n",
      "       #include <unistd.h>\r\n",
      "\r\n",
      "       int dup3(int oldfd, int newfd, int flags);\r\n",
      "\r\n",
      "DESCRIPTION\r\n",
      "       The  dup()  system  call  creates  a copy of the file descriptor oldfd,\r\n",
      "       using the lowest-numbered unused descriptor for the new descriptor.\r\n"
     ]
    }
   ],
   "source": [
    "man dup2 | head -n 20"
   ]
  },
  {
   "cell_type": "markdown",
   "metadata": {
    "slideshow": {
     "slide_type": "slide"
    }
   },
   "source": [
    "# Why do this Standard In Trick?"
   ]
  },
  {
   "cell_type": "markdown",
   "metadata": {
    "slideshow": {
     "slide_type": "fragment"
    }
   },
   "source": [
    "Because it helps separate the idea of what the mapper should do (word count, graph reduction, frequency detection etc) from the framework that handles all the details"
   ]
  },
  {
   "cell_type": "markdown",
   "metadata": {
    "slideshow": {
     "slide_type": "slide"
    }
   },
   "source": [
    "# VERY VERY IMPORTANT FINAL NOTE"
   ]
  },
  {
   "cell_type": "markdown",
   "metadata": {
    "slideshow": {
     "slide_type": "fragment"
    }
   },
   "source": [
    "# DON'T 🍴 💣 BOMB ON MR1 and MR2"
   ]
  },
  {
   "cell_type": "markdown",
   "metadata": {
    "slideshow": {
     "slide_type": "fragment"
    }
   },
   "source": [
    "# When you write your fork loop, make absolutely sure you are forking exactly $$n$$$$$$ not $$2^n$$ or worse"
   ]
  },
  {
   "cell_type": "code",
   "execution_count": null,
   "metadata": {
    "collapsed": true
   },
   "outputs": [],
   "source": []
  }
 ],
 "metadata": {
  "celltoolbar": "Slideshow",
  "kernelspec": {
   "display_name": "Bash",
   "language": "bash",
   "name": "bash"
  },
  "language_info": {
   "codemirror_mode": "shell",
   "file_extension": ".sh",
   "mimetype": "text/x-sh",
   "name": "bash"
  }
 },
 "nbformat": 4,
 "nbformat_minor": 1
}
